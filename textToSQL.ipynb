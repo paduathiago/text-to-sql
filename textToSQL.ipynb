{
 "cells": [
  {
   "cell_type": "markdown",
   "metadata": {},
   "source": [
    "# Text-to-SQL - Thiago Pádua"
   ]
  },
  {
   "cell_type": "markdown",
   "metadata": {},
   "source": [
    "## Introdução\n",
    "Vive-se atualmente uma tendência em que o volume de dados gerado por empresas, governos e indivíduos alcança níveis sem precedentes. Esse crescimento reflete a digitalização de processos, a expansão de serviços online e a conectividade global. Em paralelo, decisões baseadas em dados tornaram-se cruciais para diferentes tipos de serviços, permeando as mais variadas áreas do conhecimento e impactando o modo a partir do qual se estrutura toda a inteligência organizacional.\n",
    "\n",
    "Podemos entender os dados como matéria prima lógica a ser consumida em incontáveis aplicações, permitindo melhoria de performance, redução de custos, ganho de flexibilidade operacional, planejamento respaldado em conhecimentos empíricos, dentre diversos outros. Sendo assim, há uma mudança de paradigma que afeta a maneira com a qual os profissionais gerais se relacionam com dados, exigindo por muitas vezes um conhecimento técnico mais avançado para lidar com as aplicações utilizadas. De outro lado, há uma demanda dos usuários por obtenção rápida, intuitiva e assertiva de informações dos sistemas."
   ]
  },
  {
   "cell_type": "markdown",
   "metadata": {},
   "source": [
    "## Structured Query Language (SQL)\n",
    "SQL é uma linguagem de programação para armazenar\n",
    "e processar informações em um banco de dados relacional. Um BD relacional, por sua vez, guarda dados através de\n",
    "tabelas que podem representar entidades ou relacionamentos\n",
    "próprios do conjunto de conhecimentos armazenados. Cada\n",
    "linha nas tabelas representa entradas únicas que estão sendo\n",
    "salvas. As instruções SQL operam sobre o banco de dados\n",
    "e são capazes de criar, armazenar, alterar, deletar e especialmente consultar as entradas, que é o tema de nosso maior\n",
    "interesse.\n",
    "\n"
   ]
  },
  {
   "cell_type": "markdown",
   "metadata": {},
   "source": [
    "## O que é TEXT-TO-SQL?\n",
    "Dado o contexto proposto, Text-to-SQL surge como uma alternativa para facilitar o acesso aos\n",
    "dados. Ele consiste em um método de transformar perguntas feitas em linguagem natu-\n",
    "ral para as queries correspondentes em SQL. Sendo assim, é possível reduzir a expertise\n",
    "técnica necessária para lidar com os dados e tornar a experiência de obtenção de informa-\n",
    "ções mais fluida e simples para os usuários. Além disso, essa técnica aumenta a eficiência\n",
    "do processamento de dados e contribui com um amplo leque de aplicações como servi-\n",
    "ços inteligentes de bancos de dados (BD), análise automática de dados e aplicações de\n",
    "perguntas e respostas em BDs.\n",
    "É possível também ressaltar que Text-to-SQL tem um grande potencial para aumento\n",
    "de produtividade principalmente no que diz respeito à economia de tempo, desde a capa-\n",
    "citação dos profissionais até a própria elaboração das consultas sobre os dados disponíveis.\n",
    "Sua versatilidade de aplicações ainda é outra vantagem. Como desvantagens pode-se citar\n",
    "o alto teor de erro presente no atual estado da arte das soluções existentes e o elevado\n",
    "investimento inicial, que no entanto é compensado em médio prazo\n",
    "\n",
    "O método de Text-to-SQL envolve uma série de conhecimentos que interessam tanto\n",
    "os profissionais de bancos de dados quanto aqueles envolvidos com processamento de\n",
    "linguagem natural. Este é um problema que tem natureza multidisciplinar e engloba\n",
    "uma série de processos que devem trabalhar em conjunto para o bom funcionamento\n",
    "geral. O desenho de uma proposta de texto em língua natural para SQL envolve delicados\n",
    "parâmetros e necessita de um ajuste cuidadoso para atingir resultados satisfatórios. Com\n",
    "isso em vista, a seguir são apresentados alguns conceitos fundamentais para o assunto e\n",
    "também um panorama do atual estado da arte."
   ]
  },
  {
   "cell_type": "markdown",
   "metadata": {},
   "source": [
    "## Setup"
   ]
  },
  {
   "cell_type": "code",
   "execution_count": 1,
   "metadata": {},
   "outputs": [
    {
     "name": "stderr",
     "output_type": "stream",
     "text": [
      "/home/thiago/UFMG/9_periodo/POC I/text-to-sql/.venv/lib/python3.10/site-packages/tqdm/auto.py:21: TqdmWarning: IProgress not found. Please update jupyter and ipywidgets. See https://ipywidgets.readthedocs.io/en/stable/user_install.html\n",
      "  from .autonotebook import tqdm as notebook_tqdm\n"
     ]
    }
   ],
   "source": [
    "import pandas as pd\n",
    "import sqlite3\n",
    "\n",
    "from transformers import AutoTokenizer, AutoModelForSeq2SeqLM"
   ]
  },
  {
   "cell_type": "code",
   "execution_count": 3,
   "metadata": {},
   "outputs": [],
   "source": [
    "db_path = \"/media/thiago/5082A8E882A8D3AE/POC\"\n",
    "\n",
    "connection = sqlite3.connect(f\"{db_path}/database_text_to_sql.db\")\n",
    "file_path = f\"export/THOTH/versao 2/prescricao-tratada.csv\""
   ]
  },
  {
   "cell_type": "code",
   "execution_count": 4,
   "metadata": {},
   "outputs": [],
   "source": [
    "for chunk in pd.read_csv(file_path, chunksize=10000, encoding=\"latin1\"):\n",
    "    chunk.to_sql(\"Presc\", connection, if_exists=\"append\", index=False)"
   ]
  },
  {
   "cell_type": "code",
   "execution_count": 5,
   "metadata": {},
   "outputs": [],
   "source": [
    "cursor = connection.cursor()"
   ]
  },
  {
   "cell_type": "code",
   "execution_count": 6,
   "metadata": {},
   "outputs": [
    {
     "name": "stdout",
     "output_type": "stream",
     "text": [
      "[('Presc',)]\n"
     ]
    }
   ],
   "source": [
    "cursor.execute(\"SELECT name FROM sqlite_master WHERE type='table';\")\n",
    "tabelas = cursor.fetchall()\n",
    "print(tabelas)"
   ]
  },
  {
   "cell_type": "code",
   "execution_count": 7,
   "metadata": {},
   "outputs": [
    {
     "name": "stdout",
     "output_type": "stream",
     "text": [
      "(0, 'uuid', 'TEXT', 0, None, 0)\n",
      "(1, 'prescricao', 'INTEGER', 0, None, 0)\n",
      "(2, 'prontuario', 'INTEGER', 0, None, 0)\n",
      "(3, 'data_atendimento', 'TEXT', 0, None, 0)\n",
      "(4, 'idade_anos', 'INTEGER', 0, None, 0)\n",
      "(5, 'idade_meses', 'INTEGER', 0, None, 0)\n",
      "(6, 'idade_dias', 'INTEGER', 0, None, 0)\n",
      "(7, 'procedimento', 'TEXT', 0, None, 0)\n",
      "(8, 'id_profissional', 'TEXT', 0, None, 0)\n",
      "(9, 'sequencia', 'INTEGER', 0, None, 0)\n",
      "(10, 'itemseq', 'INTEGER', 0, None, 0)\n",
      "(11, 'item', 'INTEGER', 0, None, 0)\n",
      "(12, 'descricao', 'TEXT', 0, None, 0)\n",
      "(13, 'apresentacao', 'TEXT', 0, None, 0)\n",
      "(14, 'unidade', 'TEXT', 0, None, 0)\n",
      "(15, 'dose_qtde', 'REAL', 0, None, 0)\n",
      "(16, 'dose_unidade', 'TEXT', 0, None, 0)\n",
      "(17, 'via', 'TEXT', 0, None, 0)\n",
      "(18, 'intervalo', 'TEXT', 0, None, 0)\n",
      "(19, 'sequencia_horario', 'INTEGER', 0, None, 0)\n",
      "(20, 'aprazado', 'TEXT', 0, None, 0)\n",
      "(21, 'observacao', 'TEXT', 0, None, 0)\n",
      "(22, 'esquema', 'TEXT', 0, None, 0)\n",
      "(23, 'velocidade', 'TEXT', 0, None, 0)\n",
      "(24, 'tipo_prescricao', 'TEXT', 0, None, 0)\n",
      "(25, 'data_timestamp', 'TEXT', 0, None, 0)\n",
      "(26, 'item_prescrito', 'INTEGER', 0, None, 0)\n",
      "(27, 'descricao_prescrita', 'TEXT', 0, None, 0)\n",
      "(28, 'apresentacao_prescrita', 'TEXT', 0, None, 0)\n",
      "(29, 'unidade_prescrita', 'TEXT', 0, None, 0)\n",
      "(30, 'dose_qtde_prescrita', 'REAL', 0, None, 0)\n",
      "(31, 'dose_unidade_prescrita', 'TEXT', 0, None, 0)\n",
      "(32, 'via_prescrita', 'TEXT', 0, None, 0)\n",
      "(33, 'intervalo_prescrito', 'TEXT', 0, None, 0)\n",
      "(34, 'sequencia_horario_2', 'INTEGER', 0, None, 0)\n",
      "(35, 'qtde_esquema', 'INTEGER', 0, None, 0)\n",
      "(36, 'qtde_total', 'REAL', 0, None, 0)\n",
      "(37, 'data_atendimento.1', 'REAL', 0, None, 0)\n",
      "(38, 'idade_anos.1', 'REAL', 0, None, 0)\n",
      "(39, 'idade_meses.1', 'REAL', 0, None, 0)\n",
      "(40, 'idade_dias.1', 'REAL', 0, None, 0)\n",
      "(41, 'procedimento.1', 'REAL', 0, None, 0)\n"
     ]
    }
   ],
   "source": [
    "cursor.execute(f\"PRAGMA table_info({'Presc'});\")\n",
    "\n",
    "columns = cursor.fetchall()\n",
    "for column in columns:\n",
    "    print(column)"
   ]
  },
  {
   "cell_type": "code",
   "execution_count": 8,
   "metadata": {},
   "outputs": [
    {
     "name": "stdout",
     "output_type": "stream",
     "text": [
      "('e2a8a5f0-0090-4393-9c74-4af16c2fac1e', 1318746, 10163814, '2015-08-29 00:00:00.000', 65, 6, 6, '303060212#TRATAMENTO DE INSUFICIENCIA CARDIACA ', '37070872-2e39-4aec-a420-a4334b688bc1', 0, 5, 17501, 'DipiRONA 500 mg', 'COMP', 'COMP', 2.0, 'COMP', 'VO', 'SE NECESSARIO', 0, 'S', 'ATÉ DE 6/6 HORAS, SE DOR OU TAX >38,3ºC ', ' ', ' ', '1', '2016-01-16 12:24:00', 17501, 'DipiRONA 500 mg', 'COMP', 'COMP', 2.0, 'COMP', 'VO', 'SE NECESSARIO', 0, 1, 2.0, None, None, None, None, None)\n",
      "('3bc7d6cc-650c-47fe-b840-4cea6a3c2a60', 1318746, 10163814, '2015-08-29 00:00:00.000', 65, 6, 6, '303060212#TRATAMENTO DE INSUFICIENCIA CARDIACA ', '37070872-2e39-4aec-a420-a4334b688bc1', 0, 5, 17501, 'DipiRONA 500 mg', 'COMP', 'COMP', 2.0, 'COMP', 'VO', 'SE NECESSARIO', 0, 'S', 'ATÉ DE 6/6 HORAS, SE DOR OU TAX >38,3ºC ', ' ', ' ', '1', '2016-01-16 12:24:00', 17501, 'DipiRONA 500 mg', 'COMP', 'COMP', 2.0, 'COMP', 'VO', 'SE NECESSARIO', 0, 1, 2.0, None, None, None, None, None)\n",
      "('e2a8a5f0-0090-4393-9c74-4af16c2fac1e', 1318746, 10163814, '2015-08-29 00:00:00.000', 65, 6, 6, '303060212#TRATAMENTO DE INSUFICIENCIA CARDIACA ', '37070872-2e39-4aec-a420-a4334b688bc1', 1, 6, 9273, 'ONDANSETRONA 4 mg SOL. INJ.', 'AMP 2 ml', 'AMP', 4.0, 'mg', 'EV', 'SE NECESSARIO', 0, 'S', 'Diluição: 50ml SF 0,9%. ATÉ DE 8/8 HORAS, SE NÁUSEA OU VÔMITO.', ' ', ' ', '1', '2016-01-16 12:24:00', 9273, 'ONDANSETRONA 4 mg SOL. INJ.', 'AMP 2 ml', 'mg', 4.0, 'mg', 'EV', 'SE NECESSARIO', 0, 1, 4.0, None, None, None, None, None)\n",
      "('3bc7d6cc-650c-47fe-b840-4cea6a3c2a60', 1318746, 10163814, '2015-08-29 00:00:00.000', 65, 6, 6, '303060212#TRATAMENTO DE INSUFICIENCIA CARDIACA ', '37070872-2e39-4aec-a420-a4334b688bc1', 1, 6, 9273, 'ONDANSETRONA 4 mg SOL. INJ.', 'AMP 2 ml', 'AMP', 4.0, 'mg', 'EV', 'SE NECESSARIO', 0, 'S', 'Diluição: 50ml SF 0,9%. ATÉ DE 8/8 HORAS, SE NÁUSEA OU VÔMITO.', ' ', ' ', '1', '2016-01-16 12:24:00', 9273, 'ONDANSETRONA 4 mg SOL. INJ.', 'AMP 2 ml', 'mg', 4.0, 'mg', 'EV', 'SE NECESSARIO', 0, 1, 4.0, None, None, None, None, None)\n",
      "('e2a8a5f0-0090-4393-9c74-4af16c2fac1e', 1318746, 10163814, '2015-08-29 00:00:00.000', 65, 6, 6, '303060212#TRATAMENTO DE INSUFICIENCIA CARDIACA ', '37070872-2e39-4aec-a420-a4334b688bc1', 2, 7, 23001, 'SINVASTATINA 20 mg', 'COMP', 'COMP', 1.0, 'COMP', 'VO', '24/24H', 22, 'S', 'as 21h', ' ', ' ', '1', '2016-01-16 12:24:00', 23001, 'SINVASTATINA 20 mg', 'COMP', 'COMP', 1.0, 'COMP', 'VO', '24/24H', 22, 1, 1.0, None, None, None, None, None)\n"
     ]
    }
   ],
   "source": [
    "cursor.execute(f\"SELECT * FROM {'Presc'} LIMIT 5;\")\n",
    "result = cursor.fetchall()\n",
    "\n",
    "for row in result:\n",
    "    print(row)"
   ]
  },
  {
   "cell_type": "markdown",
   "metadata": {},
   "source": [
    "## Large Language Models (LLMs)\n",
    "Large Language Model é um arquétipo de inteligência artificial treinado com enormes volumes de dados textuais e capaz de entender e gerar linguagem natural de forma sofisticada, sendo apto a realizar tarefas dos mais variados tipos. As LLMs - devido à sua natureza capaz de interpretar muito bem a linguagem humana - mudaram o paradigma com o que se faz Text-to-SQL. Modelos cada vez mais avançados revolucionam diversas aplicações. Eles conseguem identificar palavras-chave, compreender a estrutura do banco de dados e gerar consultas que correspondam à intenção do usuário. Sendo assim, constituem uma parte fundamental do processo obtenção de queries SQL e por isso grande parte do esforço da aplicação se concentra em ajustar os inputs fornecidos para os modelos\n",
    "\n",
    "## In-context Learning (ICL)\n",
    "Levando em consideração essa necessidade de ajuste do texto fornecido como entrada para as LLMs, o In-context Learning surge uma técnica poderosa que permite aprimorar a capacidade de geração de outputs.\n",
    "\n",
    "Esse método consiste em fornecer ao modelo um contexto adicional - através de linguagem natural - que facilita a compreensão da tarefa a ser realizada. A informação extra vem no formato de demonstrações e exemplos. Através deles é possível que LLMs previamente treinadas sejam ajustadas para afazeres específicos, como a geração de queries SQL, sem atualização de pesos e, portanto, de forma mais eficiente em termos de custo computacional.\n",
    "\n",
    "Outro ponto importante é que in-context learning também facilita a interação com o usuário, uma vez que a linguagem natural é mais intuitiva e acessível, tornando possível uma condução orgânica e inteligente durante o processo. À vista disso, há um benefício duplo: aprimoramento da performance a partir de expertise humano e maior facilidade de uso.\n",
    "\n",
    "ICL se destaca por não necessitar uma fase adicional de treinamento, de maneira oposta ao aprendizado supervisionado. Sendo assim, são dispensadas a necessidade de um dataset rotulado e múltiplas iterações de backpropagation. Ao invés disso, a ideia é se aproveitar da capacidade intrínsica das LLMs de interpretação de linguagem natural - provinda de seu treinamento prévio - para encaminhar a tarefa a ser realizada através de uma trilha bem definida, evitando respostas incorretas e alucinações.\n",
    "\n",
    "Em suma, pode-se dizer que o In-context Learning é uma técnica aplicada ao input de LLMs que se utiliza de analogias a partir de exemplos fornecidos para aprimorar a capacidade de geração de outputs para tarefas específicas, sem a necessidade de ajuste de parâmetros e com conhecimento não persistente.\n",
    "\n",
    "### Tipos de In-context Learning\n",
    "A maneira de se aplicar ICL varia de acordo com a tarefa a ser realizada e também com a natureza do modelo utilizado. Para atividades simples, é possível fornecer poucos exemplos como input, enquanto aquelas mais complexas requerem um número elevado de demonstrações, acompanhadas de um maior custo de processamento. De modo semelhante, LLMs com mais parâmetros tendem a ter resultados satisfatórios mesmo com quantidades baixas de amostras. Isso se deve ao fato de que modelos mais complexos possuem maior capacidade de generalização e, portanto, \"conseguem aprender mais com menos dados\".\n",
    "\n",
    "Sendo assim, a seguir são apresentados os tipos de In-context Learning mais comuns:\\\n",
    "- Zero-shot learning: é o tipo mais simples de ICL, no qual é fornecido como input somente o comando a ser executado, com pouca ou nenhuma informação de contexto, além de uma descrição da tarefa em linguagem natural; (INSERIR EXEMPLO)\n",
    "- One-shot learning: Nesse caso, além da descrição da tarefa, um exemplo de input e output é fornecido, como meio de demonstração a fim de guiar o modelo no processo de geração;\n",
    "- Few-shot learning: Similar ao one-shot learning, porém com um número maior de exemplos fornecidos, o que permite um contexto mais rico e, na maioria das vezes, resultados mais precisos;\n",
    "\n",
    "### Prompt Engineering\n",
    "Na prática, a aplicação de In-context Learning se dá através de um processo chamado Prompt Engineering. O \"prompt\" é o input fornecido ao modelo, que contém a descrição da tarefa, exemplos de entrada e saída propostos pelo ICL e, por vezes, informações adicionais de contexto que auxiliam na compreensão do problema a ser resolvido.\n",
    "Esse método consiste em ajustar o texto fornecido à LLM com o objetivo de extrair dela a melhor performance possível. O processo é chamado de engenharia devido à sua natureza sistemática, com finalidade de projetar, ajustar e otimizar prompts que orientam os modelos a produzir resultados específicos e com alta qualidade.\n",
    "\n",
    "O processo de Prompt Engineering é fundamental para o sucesso da tarefa a ser executada, uma vez que as LLMs são sensíveis a pequenas variações no input, o que pode resultar em outputs inesperados. Ele também é responsável por dar ao ICL uma forma bem definida, ou seja, determina em que formato os exemplos devem ser fornecidos, como eles devem ser apresentados e também a sua interação com o restante do contexto e descrição da tarefa.\n",
    "\n"
   ]
  },
  {
   "cell_type": "markdown",
   "metadata": {},
   "source": [
    "## Definição do Primeiro Modelo"
   ]
  },
  {
   "cell_type": "code",
   "execution_count": 9,
   "metadata": {},
   "outputs": [],
   "source": [
    "model_name = \"Sumitp/Text_to_SQL_BART_sumit1\"\n",
    "\n",
    "tokenizer = AutoTokenizer.from_pretrained(model_name)\n",
    "model = AutoModelForSeq2SeqLM.from_pretrained(model_name)"
   ]
  },
  {
   "cell_type": "code",
   "execution_count": 10,
   "metadata": {},
   "outputs": [],
   "source": [
    "# Example of Code Representation Prompt\n",
    "\n",
    "input_text = \"\"\"Given the following database schema:\n",
    "CREATE TABLE Prescriptions (\n",
    "    uuid TEXT,\n",
    "    prescricao INTEGER,\n",
    "    prontuario INTEGER,\n",
    "    data_atendimento TEXT,\n",
    "    idade_anos INTEGER,\n",
    "    idade_meses INTEGER,\n",
    "    idade_dias INTEGER,\n",
    "    procedimento TEXT,\n",
    "    id_profissional TEXT,\n",
    "    sequencia INTEGER,\n",
    "    itemseq INTEGER,\n",
    "    item INTEGER,\n",
    "    descricao TEXT,\n",
    "    apresentacao TEXT,\n",
    "    unidade TEXT,\n",
    "    dose_qtde REAL,\n",
    "    dose_unidade TEXT,\n",
    "    via TEXT,\n",
    "    intervalo TEXT,\n",
    "    sequencia_horario INTEGER,\n",
    "    aprazado TEXT,\n",
    "    observacao TEXT,\n",
    "    esquema TEXT,\n",
    "    velocidade TEXT,\n",
    "    tipo_prescricao TEXT,\n",
    "    data_timestamp TEXT,\n",
    "    item_prescrito INTEGER,\n",
    "    descricao_prescrita TEXT,\n",
    "    apresentacao_prescrita TEXT,\n",
    "    unidade_prescrita TEXT,\n",
    "    dose_qtde_prescrita REAL,\n",
    "    dose_unidade_prescrita TEXT,\n",
    "    via_prescrita TEXT,\n",
    "    intervalo_prescrito TEXT,\n",
    "    sequencia_horario_2 INTEGER,\n",
    "    qtde_esquema INTEGER,\n",
    "    qtde_total REAL,\n",
    "    data_atendimento_1 REAL,\n",
    "    idade_anos_1 REAL,\n",
    "    idade_meses_1 REAL,\n",
    "    idade_dias_1 REAL,\n",
    "    procedimento_1 REAL,\n",
    "    PRIMARY KEY (uuid)\n",
    ");\n",
    "\n",
    "Answer the following question:\n",
    "What is the total number of prescriptions in the database?\n",
    "\"\"\"\n",
    "input_ids = tokenizer.encode(input_text, return_tensors=\"pt\")\n",
    "\n",
    "output = model.generate(input_ids, max_length=200, num_return_sequences=1)"
   ]
  },
  {
   "cell_type": "code",
   "execution_count": 11,
   "metadata": {},
   "outputs": [
    {
     "name": "stdout",
     "output_type": "stream",
     "text": [
      "SELECT COUNT ID ID ID_Dias INTEGER,                 FROM table WHERE ISSECO_HERE ISSECCIO  <col0>  = via TEXT,                                                ������������������������������������ FROM table = real AND ISSECo <col7> = real\n"
     ]
    }
   ],
   "source": [
    "# Decode the generated text\n",
    "generated_text = tokenizer.decode(output[0], skip_special_tokens=True)\n",
    "print(generated_text)"
   ]
  },
  {
   "cell_type": "code",
   "execution_count": 12,
   "metadata": {},
   "outputs": [],
   "source": [
    "# Example of Alpaca SFT Prompt\n",
    "input_text = \"\"\"Below is an instruction that describes a task, paired with an input that provides further context . Write a response that appropriately completes the request.\n",
    "### Instruction :\n",
    "Write a sql to answer the question \"What is the total number of prescriptions in the database?\"\n",
    "\n",
    "### Input :\n",
    "prescriptions(uuid, prescricao, prontuario, data_atendimento, idade_anos, idade_meses, idade_dias, procedimento, id_profissional, sequencia, itemseq, item, descricao, apresentacao, unidade, dose_qtde, dose_unidade, via, intervalo, sequencia_horario, aprazado, observacao, esquema, velocidade, tipo_prescricao, data_timestamp, item_prescrito, descricao_prescrita, apresentacao_prescrita, unidade_prescrita, dose_qtde_prescrita, dose_unidade_prescrita, via_prescrita, intervalo_prescrito, sequencia_horario_2, qtde_esquema, qtde_total, data_atendimento_1, idade_anos_1, idade_meses_1, idade_dias_1, procedimento_1)\n",
    "Consider uuid as the primary key\n",
    "\"\"\"\n",
    "input_ids = tokenizer.encode(input_text, return_tensors=\"pt\")\n",
    "\n",
    "output = model.generate(input_ids, max_length=300, num_return_sequences=1)"
   ]
  },
  {
   "cell_type": "code",
   "execution_count": 13,
   "metadata": {},
   "outputs": [
    {
     "name": "stdout",
     "output_type": "stream",
     "text": [
      "SELECT Prescriptions(uuid, prescricao, prontuario, data_atendimento, IDade_anos, idade_dias, ecces, procedimento FROM table WHERE September, 1 `` 1 `` 0 `` 0 `6 = Docte_prescrita, dose_� =��quema, qtde_796Consider uuid as the primary key = Tipo_Prescricao AND ID ID ID = IDade, esquema , Velocidade, Koto_prescicoao AND Templer = data_timestamp,\n"
     ]
    }
   ],
   "source": [
    "generated_text = tokenizer.decode(output[0], skip_special_tokens=True)\n",
    "print(generated_text)"
   ]
  },
  {
   "cell_type": "code",
   "execution_count": 14,
   "metadata": {},
   "outputs": [],
   "source": [
    "# Example of OpenAI Demostration Prompt\n",
    "input_text = \"\"\"### Complete sqlite SQL query only and with no explanation\n",
    "### SQLite SQL tables , with their properties :\n",
    "prescriptions(uuid, prescricao, prontuario, data_atendimento, idade_anos, idade_meses, idade_dias, procedimento, id_profissional, sequencia, itemseq, item, descricao, apresentacao, unidade, dose_qtde, dose_unidade, via, intervalo, sequencia_horario, aprazado, observacao, esquema, velocidade, tipo_prescricao, data_timestamp, item_prescrito, descricao_prescrita, apresentacao_prescrita, unidade_prescrita, dose_qtde_prescrita, dose_unidade_prescrita, via_prescrita, intervalo_prescrito, sequencia_horario_2, qtde_esquema, qtde_total, data_atendimento_1, idade_anos_1, idade_meses_1, idade_dias_1, procedimento_1)\n",
    "### How many continents are there ? \"\"\"\n",
    "\n",
    "input_ids = tokenizer.encode(input_text, return_tensors=\"pt\")\n",
    "\n",
    "output = model.generate(input_ids, max_length=300, num_return_sequences=1)"
   ]
  },
  {
   "cell_type": "code",
   "execution_count": 15,
   "metadata": {},
   "outputs": [
    {
     "name": "stdout",
     "output_type": "stream",
     "text": [
      "SELECT COUNT Data_atendimento FROM table WHERE Date = Dos_Qtde_Prescrita, Prontuario, data_at endimento = IDade_anos, idade_dias_1, procedimento_1) AND Date = Doctuario AND No.S. query only = no explanation                #### SQLite sql tables , with their properties = No explanation                                Prescriptions(Sqlite query only) = 0–0, 0–06, 0805–0–8, 0.06–9, AND IDade, 0 `` 0–9–0 = 0.5 AND 0–6–0.9 = 5–1–0 AND 0.005–9 = 1– AND 1–06–0 FROM table = 2–0 0– AND 2–5 = 0 AND 0 × = 0�–00–906 = 0�–0805–9 AND 0�–902 = 0�–976 AND 0�0–10 = 0�0–1, 0� AND 0�–977 = 0�–0 `` 0 `` 5 `` 0 0 `` 9 `` 0 AND0–6 = 0�–907 AND 0�0–07 = 0�co, 0�8 AND 0�–, 0�, 0�8 = 0quema, 0tde-esquema AND\n"
     ]
    }
   ],
   "source": [
    "generated_text = tokenizer.decode(output[0], skip_special_tokens=True)\n",
    "print(generated_text)"
   ]
  },
  {
   "cell_type": "code",
   "execution_count": 16,
   "metadata": {},
   "outputs": [
    {
     "name": "stdout",
     "output_type": "stream",
     "text": [
      "[(9592088,)]\n"
     ]
    }
   ],
   "source": [
    "cursor.execute(f\"SELECT COUNT(*) FROM {'Presc'}\")\n",
    "result = cursor.fetchall()\n",
    "\n",
    "print(result)"
   ]
  },
  {
   "cell_type": "code",
   "execution_count": 17,
   "metadata": {},
   "outputs": [],
   "source": [
    "# connection.close()"
   ]
  }
 ],
 "metadata": {
  "kernelspec": {
   "display_name": ".venv",
   "language": "python",
   "name": "python3"
  },
  "language_info": {
   "codemirror_mode": {
    "name": "ipython",
    "version": 3
   },
   "file_extension": ".py",
   "mimetype": "text/x-python",
   "name": "python",
   "nbconvert_exporter": "python",
   "pygments_lexer": "ipython3",
   "version": "3.10.12"
  }
 },
 "nbformat": 4,
 "nbformat_minor": 2
}
