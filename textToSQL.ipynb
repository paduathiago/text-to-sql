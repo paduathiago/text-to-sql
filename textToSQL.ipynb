{
 "cells": [
  {
   "cell_type": "code",
   "execution_count": 4,
   "metadata": {},
   "outputs": [],
   "source": [
    "import pandas as pd\n",
    "import sqlite3\n",
    "\n",
    "from transformers import AutoTokenizer, AutoModelForSeq2SeqLM"
   ]
  },
  {
   "cell_type": "code",
   "execution_count": 30,
   "metadata": {},
   "outputs": [],
   "source": [
    "connection = sqlite3.connect(\"/media/padua/6004B63504B60E52/TCC/database_text_to_sql.db\")\n",
    "file_path = \"/media/padua/6004B63504B60E52/TCC/export/THOTH/versao 2/prescricao-tratada.csv\""
   ]
  },
  {
   "cell_type": "code",
   "execution_count": 4,
   "metadata": {},
   "outputs": [],
   "source": [
    "for chunk in pd.read_csv(file_path, chunksize=10000, encoding=\"latin1\"):\n",
    "    chunk.to_sql(\"Presc\", connection, if_exists=\"append\", index=False)\n"
   ]
  },
  {
   "cell_type": "code",
   "execution_count": 32,
   "metadata": {},
   "outputs": [],
   "source": [
    "cursor = connection.cursor()"
   ]
  },
  {
   "cell_type": "code",
   "execution_count": 33,
   "metadata": {},
   "outputs": [
    {
     "data": {
      "text/plain": [
       "<sqlite3.Cursor at 0x7ae75bc89440>"
      ]
     },
     "execution_count": 33,
     "metadata": {},
     "output_type": "execute_result"
    }
   ],
   "source": [
    "cursor.execute(\"SELECT name FROM sqlite_master WHERE type='table';\")"
   ]
  },
  {
   "cell_type": "code",
   "execution_count": 34,
   "metadata": {},
   "outputs": [
    {
     "name": "stdout",
     "output_type": "stream",
     "text": [
      "[('Prescriptions',), ('Presc',)]\n"
     ]
    }
   ],
   "source": [
    "tabelas = cursor.fetchall()\n",
    "print(tabelas)"
   ]
  },
  {
   "cell_type": "code",
   "execution_count": 12,
   "metadata": {},
   "outputs": [
    {
     "name": "stdout",
     "output_type": "stream",
     "text": [
      "(0, 'uuid', 'TEXT', 0, None, 0)\n",
      "(1, 'prescricao', 'INTEGER', 0, None, 0)\n",
      "(2, 'prontuario', 'INTEGER', 0, None, 0)\n",
      "(3, 'data_atendimento', 'TEXT', 0, None, 0)\n",
      "(4, 'idade_anos', 'INTEGER', 0, None, 0)\n",
      "(5, 'idade_meses', 'INTEGER', 0, None, 0)\n",
      "(6, 'idade_dias', 'INTEGER', 0, None, 0)\n",
      "(7, 'procedimento', 'TEXT', 0, None, 0)\n",
      "(8, 'id_profissional', 'TEXT', 0, None, 0)\n",
      "(9, 'sequencia', 'INTEGER', 0, None, 0)\n",
      "(10, 'itemseq', 'INTEGER', 0, None, 0)\n",
      "(11, 'item', 'INTEGER', 0, None, 0)\n",
      "(12, 'descricao', 'TEXT', 0, None, 0)\n",
      "(13, 'apresentacao', 'TEXT', 0, None, 0)\n",
      "(14, 'unidade', 'TEXT', 0, None, 0)\n",
      "(15, 'dose_qtde', 'REAL', 0, None, 0)\n",
      "(16, 'dose_unidade', 'TEXT', 0, None, 0)\n",
      "(17, 'via', 'TEXT', 0, None, 0)\n",
      "(18, 'intervalo', 'TEXT', 0, None, 0)\n",
      "(19, 'sequencia_horario', 'INTEGER', 0, None, 0)\n",
      "(20, 'aprazado', 'TEXT', 0, None, 0)\n",
      "(21, 'observacao', 'TEXT', 0, None, 0)\n",
      "(22, 'esquema', 'TEXT', 0, None, 0)\n",
      "(23, 'velocidade', 'TEXT', 0, None, 0)\n",
      "(24, 'tipo_prescricao', 'TEXT', 0, None, 0)\n",
      "(25, 'data_timestamp', 'TEXT', 0, None, 0)\n",
      "(26, 'item_prescrito', 'INTEGER', 0, None, 0)\n",
      "(27, 'descricao_prescrita', 'TEXT', 0, None, 0)\n",
      "(28, 'apresentacao_prescrita', 'TEXT', 0, None, 0)\n",
      "(29, 'unidade_prescrita', 'TEXT', 0, None, 0)\n",
      "(30, 'dose_qtde_prescrita', 'REAL', 0, None, 0)\n",
      "(31, 'dose_unidade_prescrita', 'TEXT', 0, None, 0)\n",
      "(32, 'via_prescrita', 'TEXT', 0, None, 0)\n",
      "(33, 'intervalo_prescrito', 'TEXT', 0, None, 0)\n",
      "(34, 'sequencia_horario_2', 'INTEGER', 0, None, 0)\n",
      "(35, 'qtde_esquema', 'INTEGER', 0, None, 0)\n",
      "(36, 'qtde_total', 'REAL', 0, None, 0)\n",
      "(37, 'data_atendimento.1', 'REAL', 0, None, 0)\n",
      "(38, 'idade_anos.1', 'REAL', 0, None, 0)\n",
      "(39, 'idade_meses.1', 'REAL', 0, None, 0)\n",
      "(40, 'idade_dias.1', 'REAL', 0, None, 0)\n",
      "(41, 'procedimento.1', 'REAL', 0, None, 0)\n"
     ]
    }
   ],
   "source": [
    "cursor.execute(f\"PRAGMA table_info({'Presc'});\")\n",
    "\n",
    "columns = cursor.fetchall()\n",
    "for column in columns:\n",
    "    print(column)"
   ]
  },
  {
   "cell_type": "code",
   "execution_count": 8,
   "metadata": {},
   "outputs": [
    {
     "name": "stdout",
     "output_type": "stream",
     "text": [
      "('e2a8a5f0-0090-4393-9c74-4af16c2fac1e', 1318746, 10163814, '2015-08-29 00:00:00.000', 65, 6, 6, '303060212#TRATAMENTO DE INSUFICIENCIA CARDIACA ', '37070872-2e39-4aec-a420-a4334b688bc1', 0, 5, 17501, 'DipiRONA 500 mg', 'COMP', 'COMP', 2.0, 'COMP', 'VO', 'SE NECESSARIO', 0, 'S', 'ATÉ DE 6/6 HORAS, SE DOR OU TAX >38,3ºC ', ' ', ' ', '1', '2016-01-16 12:24:00', 17501, 'DipiRONA 500 mg', 'COMP', 'COMP', 2.0, 'COMP', 'VO', 'SE NECESSARIO', 0, 1, 2.0, None, None, None, None, None)\n",
      "('3bc7d6cc-650c-47fe-b840-4cea6a3c2a60', 1318746, 10163814, '2015-08-29 00:00:00.000', 65, 6, 6, '303060212#TRATAMENTO DE INSUFICIENCIA CARDIACA ', '37070872-2e39-4aec-a420-a4334b688bc1', 0, 5, 17501, 'DipiRONA 500 mg', 'COMP', 'COMP', 2.0, 'COMP', 'VO', 'SE NECESSARIO', 0, 'S', 'ATÉ DE 6/6 HORAS, SE DOR OU TAX >38,3ºC ', ' ', ' ', '1', '2016-01-16 12:24:00', 17501, 'DipiRONA 500 mg', 'COMP', 'COMP', 2.0, 'COMP', 'VO', 'SE NECESSARIO', 0, 1, 2.0, None, None, None, None, None)\n",
      "('e2a8a5f0-0090-4393-9c74-4af16c2fac1e', 1318746, 10163814, '2015-08-29 00:00:00.000', 65, 6, 6, '303060212#TRATAMENTO DE INSUFICIENCIA CARDIACA ', '37070872-2e39-4aec-a420-a4334b688bc1', 1, 6, 9273, 'ONDANSETRONA 4 mg SOL. INJ.', 'AMP 2 ml', 'AMP', 4.0, 'mg', 'EV', 'SE NECESSARIO', 0, 'S', 'Diluição: 50ml SF 0,9%. ATÉ DE 8/8 HORAS, SE NÁUSEA OU VÔMITO.', ' ', ' ', '1', '2016-01-16 12:24:00', 9273, 'ONDANSETRONA 4 mg SOL. INJ.', 'AMP 2 ml', 'mg', 4.0, 'mg', 'EV', 'SE NECESSARIO', 0, 1, 4.0, None, None, None, None, None)\n",
      "('3bc7d6cc-650c-47fe-b840-4cea6a3c2a60', 1318746, 10163814, '2015-08-29 00:00:00.000', 65, 6, 6, '303060212#TRATAMENTO DE INSUFICIENCIA CARDIACA ', '37070872-2e39-4aec-a420-a4334b688bc1', 1, 6, 9273, 'ONDANSETRONA 4 mg SOL. INJ.', 'AMP 2 ml', 'AMP', 4.0, 'mg', 'EV', 'SE NECESSARIO', 0, 'S', 'Diluição: 50ml SF 0,9%. ATÉ DE 8/8 HORAS, SE NÁUSEA OU VÔMITO.', ' ', ' ', '1', '2016-01-16 12:24:00', 9273, 'ONDANSETRONA 4 mg SOL. INJ.', 'AMP 2 ml', 'mg', 4.0, 'mg', 'EV', 'SE NECESSARIO', 0, 1, 4.0, None, None, None, None, None)\n",
      "('e2a8a5f0-0090-4393-9c74-4af16c2fac1e', 1318746, 10163814, '2015-08-29 00:00:00.000', 65, 6, 6, '303060212#TRATAMENTO DE INSUFICIENCIA CARDIACA ', '37070872-2e39-4aec-a420-a4334b688bc1', 2, 7, 23001, 'SINVASTATINA 20 mg', 'COMP', 'COMP', 1.0, 'COMP', 'VO', '24/24H', 22, 'S', 'as 21h', ' ', ' ', '1', '2016-01-16 12:24:00', 23001, 'SINVASTATINA 20 mg', 'COMP', 'COMP', 1.0, 'COMP', 'VO', '24/24H', 22, 1, 1.0, None, None, None, None, None)\n"
     ]
    }
   ],
   "source": [
    "cursor.execute(f\"SELECT * FROM {'Prescriptions'} LIMIT 5;\")\n",
    "result = cursor.fetchall()\n",
    "\n",
    "for r in result:\n",
    "    print(r)"
   ]
  },
  {
   "cell_type": "code",
   "execution_count": 6,
   "metadata": {},
   "outputs": [],
   "source": [
    "model_name = \"Sumitp/Text_to_SQL_BART_sumit1\"\n",
    "\n",
    "tokenizer = AutoTokenizer.from_pretrained(model_name)\n",
    "model = AutoModelForSeq2SeqLM.from_pretrained(model_name)"
   ]
  },
  {
   "cell_type": "code",
   "execution_count": null,
   "metadata": {},
   "outputs": [],
   "source": [
    "# Example of Code Representation Prompt\n",
    "\n",
    "input_text = \"\"\"Given the following database schema:\n",
    "CREATE TABLE Prescriptions (\n",
    "    uuid TEXT,\n",
    "    prescricao INTEGER,\n",
    "    prontuario INTEGER,\n",
    "    data_atendimento TEXT,\n",
    "    idade_anos INTEGER,\n",
    "    idade_meses INTEGER,\n",
    "    idade_dias INTEGER,\n",
    "    procedimento TEXT,\n",
    "    id_profissional TEXT,\n",
    "    sequencia INTEGER,\n",
    "    itemseq INTEGER,\n",
    "    item INTEGER,\n",
    "    descricao TEXT,\n",
    "    apresentacao TEXT,\n",
    "    unidade TEXT,\n",
    "    dose_qtde REAL,\n",
    "    dose_unidade TEXT,\n",
    "    via TEXT,\n",
    "    intervalo TEXT,\n",
    "    sequencia_horario INTEGER,\n",
    "    aprazado TEXT,\n",
    "    observacao TEXT,\n",
    "    esquema TEXT,\n",
    "    velocidade TEXT,\n",
    "    tipo_prescricao TEXT,\n",
    "    data_timestamp TEXT,\n",
    "    item_prescrito INTEGER,\n",
    "    descricao_prescrita TEXT,\n",
    "    apresentacao_prescrita TEXT,\n",
    "    unidade_prescrita TEXT,\n",
    "    dose_qtde_prescrita REAL,\n",
    "    dose_unidade_prescrita TEXT,\n",
    "    via_prescrita TEXT,\n",
    "    intervalo_prescrito TEXT,\n",
    "    sequencia_horario_2 INTEGER,\n",
    "    qtde_esquema INTEGER,\n",
    "    qtde_total REAL,\n",
    "    data_atendimento_1 REAL,\n",
    "    idade_anos_1 REAL,\n",
    "    idade_meses_1 REAL,\n",
    "    idade_dias_1 REAL,\n",
    "    procedimento_1 REAL,\n",
    "    PRIMARY KEY (uuid)\n",
    ");\n",
    "\n",
    "Answer the following question:\n",
    "What is the total number of prescriptions in the database?\n",
    "\"\"\"\n",
    "input_ids = tokenizer.encode(input_text, return_tensors=\"pt\")\n",
    "\n",
    "output = model.generate(input_ids, max_length=200, num_return_sequences=1)"
   ]
  },
  {
   "cell_type": "code",
   "execution_count": 19,
   "metadata": {},
   "outputs": [
    {
     "name": "stdout",
     "output_type": "stream",
     "text": [
      "SELECT COUNT Episodes INTEGER FROM table WHERE Dos_HERE ISSECCao_Prescrita Text,                 = via TEXT,                                                ���_Ceremony INTEGG,                 =                ������������������������������������ FROM table =��������������������� =�������������ഐഔാ������������������� =ന�������౐����  FROM (% RegardlesstaboolainventoryQuantity\n"
     ]
    }
   ],
   "source": [
    "# Decode the generated text\n",
    "generated_text = tokenizer.decode(output[0], skip_special_tokens=True)\n",
    "print(generated_text)"
   ]
  },
  {
   "cell_type": "code",
   "execution_count": 27,
   "metadata": {},
   "outputs": [],
   "source": [
    "\n",
    "input_text = \"\"\"Below is an instruction that describes a task, paired with an input that provides further context . Write a response that appropriately completes the request.\n",
    "### Instruction :\n",
    "Write a sql to answer the question \"What is the total number of prescriptions in the database?\"\n",
    "\n",
    "### Input :\n",
    "prescriptions(uuid, prescricao, prontuario, data_atendimento, idade_anos, idade_meses, idade_dias, procedimento, id_profissional, sequencia, itemseq, item, descricao, apresentacao, unidade, dose_qtde, dose_unidade, via, intervalo, sequencia_horario, aprazado, observacao, esquema, velocidade, tipo_prescricao, data_timestamp, item_prescrito, descricao_prescrita, apresentacao_prescrita, unidade_prescrita, dose_qtde_prescrita, dose_unidade_prescrita, via_prescrita, intervalo_prescrito, sequencia_horario_2, qtde_esquema, qtde_total, data_atendimento_1, idade_anos_1, idade_meses_1, idade_dias_1, procedimento_1)\n",
    "Consider uuid as the primary key\n",
    "\"\"\"\n",
    "input_ids = tokenizer.encode(input_text, return_tensors=\"pt\")\n",
    "\n",
    "output = model.generate(input_ids, max_length=300, num_return_sequences=1)"
   ]
  },
  {
   "cell_type": "code",
   "execution_count": 28,
   "metadata": {},
   "outputs": [
    {
     "name": "stdout",
     "output_type": "stream",
     "text": [
      "SELECT Prescriptions(uuid, prescricao, prontuario, data_atendimento, IDade_anos, idade_dias, ecces, procedimento FROM table WHERE September, 1 `` 1 `` 0 `` 0 `6 = Docte_prescrita, dose_� =��quema, qtde_796Consider uuid as the primary key = Tipo_Prescricao AND ID ID ID = IDade, esquema , Velocidade, Koto_prescicoao AND Templer = data_timestamp,\n"
     ]
    }
   ],
   "source": [
    "generated_text = tokenizer.decode(output[0], skip_special_tokens=True)\n",
    "print(generated_text)"
   ]
  },
  {
   "cell_type": "code",
   "execution_count": 25,
   "metadata": {},
   "outputs": [],
   "source": [
    "input_text = \"\"\"### Complete sqlite SQL query only and with no explanation\n",
    "### SQLite SQL tables , with their properties :\n",
    "prescriptions(uuid, prescricao, prontuario, data_atendimento, idade_anos, idade_meses, idade_dias, procedimento, id_profissional, sequencia, itemseq, item, descricao, apresentacao, unidade, dose_qtde, dose_unidade, via, intervalo, sequencia_horario, aprazado, observacao, esquema, velocidade, tipo_prescricao, data_timestamp, item_prescrito, descricao_prescrita, apresentacao_prescrita, unidade_prescrita, dose_qtde_prescrita, dose_unidade_prescrita, via_prescrita, intervalo_prescrito, sequencia_horario_2, qtde_esquema, qtde_total, data_atendimento_1, idade_anos_1, idade_meses_1, idade_dias_1, procedimento_1)\n",
    "### How many continents are there ? \"\"\"\n",
    "\n",
    "input_ids = tokenizer.encode(input_text, return_tensors=\"pt\")\n",
    "\n",
    "output = model.generate(input_ids, max_length=300, num_return_sequences=1)"
   ]
  },
  {
   "cell_type": "code",
   "execution_count": 26,
   "metadata": {},
   "outputs": [
    {
     "name": "stdout",
     "output_type": "stream",
     "text": [
      "SELECT COUNT Data_atendimento FROM table WHERE Date = Dos_Qtde_Prescrita, Prontuario, data_at endimento = IDade_anos, idade_dias_1, procedimento_1) AND Date = Doctuario AND No.S. query only = no explanation                #### SQLite sql tables , with their properties = No explanation                                Prescriptions(Sqlite query only) = 0–0, 0–06, 0805–0–8, 0.06–9, AND IDade, 0 `` 0–9–0 = 0.5 AND 0–6–0.9 = 5–1–0 AND 0.005–9 = 1– AND 1–06–0 FROM table = 2–0 0– AND 2–5 = 0 AND 0 × = 0�–00–906 = 0�–0805–9 AND 0�–902 = 0�–976 AND 0�0–10 = 0�0–1, 0� AND 0�–977 = 0�–0 `` 0 `` 5 `` 0 0 `` 9 `` 0 AND0–6 = 0�–907 AND 0�0–07 = 0�co, 0�8 AND 0�–, 0�, 0�8 = 0quema, 0tde-esquema AND\n"
     ]
    }
   ],
   "source": [
    "generated_text = tokenizer.decode(output[0], skip_special_tokens=True)\n",
    "print(generated_text)"
   ]
  },
  {
   "cell_type": "code",
   "execution_count": null,
   "metadata": {},
   "outputs": [],
   "source": [
    "cursor.execute(f\"SELECT COUNT(*) FROM {'Prescriptions'}\")\n",
    "result = cursor.fetchall()\n",
    "\n",
    "print(result)"
   ]
  },
  {
   "cell_type": "code",
   "execution_count": 14,
   "metadata": {},
   "outputs": [],
   "source": [
    "# connection.close()"
   ]
  }
 ],
 "metadata": {
  "kernelspec": {
   "display_name": "Python 3",
   "language": "python",
   "name": "python3"
  },
  "language_info": {
   "codemirror_mode": {
    "name": "ipython",
    "version": 3
   },
   "file_extension": ".py",
   "mimetype": "text/x-python",
   "name": "python",
   "nbconvert_exporter": "python",
   "pygments_lexer": "ipython3",
   "version": "3.12.3"
  }
 },
 "nbformat": 4,
 "nbformat_minor": 2
}
