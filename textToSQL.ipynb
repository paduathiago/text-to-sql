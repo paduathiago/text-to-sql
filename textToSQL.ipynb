{
 "cells": [
  {
   "cell_type": "markdown",
   "metadata": {},
   "source": [
    "# Text-to-SQL - Thiago Pádua"
   ]
  },
  {
   "cell_type": "markdown",
   "metadata": {},
   "source": [
    "## Introdução\n",
    "Vive-se atualmente uma tendência em que o volume de dados gerado por empresas, governos e indivíduos alcança níveis sem precedentes. Esse crescimento reflete a digitalização de processos, a expansão de serviços online e a conectividade global. Em paralelo, decisões baseadas em dados tornaram-se cruciais para diferentes tipos de serviços, permeando as mais variadas áreas do conhecimento e impactando o modo a partir do qual se estrutura toda a inteligência organizacional.\n",
    "\n",
    "Podemos entender os dados como matéria prima lógica a ser consumida em incontáveis aplicações, permitindo melhoria de performance, redução de custos, ganho de flexibilidade operacional, planejamento respaldado em conhecimentos empíricos, dentre diversos outros. Sendo assim, há uma mudança de paradigma que afeta a maneira com a qual os profissionais gerais se relacionam com dados, exigindo por muitas vezes um conhecimento técnico mais avançado para lidar com as aplicações utilizadas. De outro lado, há uma demanda dos usuários por obtenção rápida, intuitiva e assertiva de informações dos sistemas."
   ]
  },
  {
   "cell_type": "markdown",
   "metadata": {},
   "source": [
    "## Structured Query Language (SQL)\n",
    "SQL é uma linguagem de programação para armazenar\n",
    "e processar informações em um banco de dados relacional. Um BD relacional, por sua vez, guarda dados através de\n",
    "tabelas que podem representar entidades ou relacionamentos\n",
    "próprios do conjunto de conhecimentos armazenados. Cada\n",
    "linha nas tabelas representa entradas únicas que estão sendo\n",
    "salvas. As instruções SQL operam sobre o banco de dados\n",
    "e são capazes de criar, armazenar, alterar, deletar e especialmente consultar as entradas, que é o tema de nosso maior\n",
    "interesse.\n",
    "\n"
   ]
  },
  {
   "cell_type": "markdown",
   "metadata": {},
   "source": [
    "## O que é TEXT-TO-SQL?\n",
    "\n",
    "![Text-to-SQL](images/text-to-sql.jpg)\n",
    "\n",
    "Dado o contexto proposto, Text-to-SQL surge como uma alternativa para facilitar o acesso aos\n",
    "dados. Ele consiste em um método de transformar perguntas feitas em linguagem natu-\n",
    "ral para as queries correspondentes em SQL. Sendo assim, é possível reduzir a expertise\n",
    "técnica necessária para lidar com os dados e tornar a experiência de obtenção de informa-\n",
    "ções mais fluida e simples para os usuários. Além disso, essa técnica aumenta a eficiência\n",
    "do processamento de dados e contribui com um amplo leque de aplicações como servi-\n",
    "ços inteligentes de bancos de dados (BD), análise automática de dados e aplicações de\n",
    "perguntas e respostas em BDs.\n",
    "É possível também ressaltar que Text-to-SQL tem um grande potencial para aumento\n",
    "de produtividade principalmente no que diz respeito à economia de tempo, desde a capa-\n",
    "citação dos profissionais até a própria elaboração das consultas sobre os dados disponíveis.\n",
    "Sua versatilidade de aplicações ainda é outra vantagem. Como desvantagens pode-se citar\n",
    "o alto teor de erro presente no atual estado da arte das soluções existentes e o elevado\n",
    "investimento inicial, que no entanto é compensado em médio prazo\n",
    "\n",
    "O método de Text-to-SQL envolve uma série de conhecimentos que interessam tanto\n",
    "os profissionais de bancos de dados quanto aqueles envolvidos com processamento de\n",
    "linguagem natural. Este é um problema que tem natureza multidisciplinar e engloba\n",
    "uma série de processos que devem trabalhar em conjunto para o bom funcionamento\n",
    "geral. O desenho de uma proposta de texto em língua natural para SQL envolve delicados\n",
    "parâmetros e necessita de um ajuste cuidadoso para atingir resultados satisfatórios. Com\n",
    "isso em vista, a seguir são apresentados alguns conceitos fundamentais para o assunto e\n",
    "também um panorama do atual estado da arte."
   ]
  },
  {
   "cell_type": "markdown",
   "metadata": {},
   "source": [
    "## Setup"
   ]
  },
  {
   "cell_type": "code",
   "execution_count": 48,
   "metadata": {},
   "outputs": [
    {
     "data": {
      "text/plain": [
       "''"
      ]
     },
     "execution_count": 48,
     "metadata": {},
     "output_type": "execute_result"
    }
   ],
   "source": [
    "import pandas as pd\n",
    "import sqlite3\n",
    ";"
   ]
  },
  {
   "cell_type": "code",
   "execution_count": 2,
   "metadata": {},
   "outputs": [],
   "source": [
    "db_path = \"/media/thiago/5082A8E882A8D3AE/POC\"\n",
    "\n",
    "connection = sqlite3.connect(f\"{db_path}/database_text_to_sql.db\")\n",
    "file_path = f\"export/THOTH/versao 2/prescricao-tratada.csv\""
   ]
  },
  {
   "cell_type": "code",
   "execution_count": 3,
   "metadata": {},
   "outputs": [],
   "source": [
    "for chunk in pd.read_csv(file_path, chunksize=10000, encoding=\"latin1\"):\n",
    "    chunk.to_sql(\"Presc\", connection, if_exists=\"append\", index=False)"
   ]
  },
  {
   "cell_type": "code",
   "execution_count": 4,
   "metadata": {},
   "outputs": [],
   "source": [
    "cursor = connection.cursor()"
   ]
  },
  {
   "cell_type": "code",
   "execution_count": 5,
   "metadata": {},
   "outputs": [
    {
     "name": "stdout",
     "output_type": "stream",
     "text": [
      "[('Presc',)]\n"
     ]
    }
   ],
   "source": [
    "cursor.execute(\"SELECT name FROM sqlite_master WHERE type='table';\")\n",
    "tabelas = cursor.fetchall()\n",
    "print(tabelas)"
   ]
  },
  {
   "cell_type": "code",
   "execution_count": 6,
   "metadata": {},
   "outputs": [
    {
     "name": "stdout",
     "output_type": "stream",
     "text": [
      "(0, 'uuid', 'TEXT', 0, None, 0)\n",
      "(1, 'prescricao', 'INTEGER', 0, None, 0)\n",
      "(2, 'prontuario', 'INTEGER', 0, None, 0)\n",
      "(3, 'data_atendimento', 'TEXT', 0, None, 0)\n",
      "(4, 'idade_anos', 'INTEGER', 0, None, 0)\n",
      "(5, 'idade_meses', 'INTEGER', 0, None, 0)\n",
      "(6, 'idade_dias', 'INTEGER', 0, None, 0)\n",
      "(7, 'procedimento', 'TEXT', 0, None, 0)\n",
      "(8, 'id_profissional', 'TEXT', 0, None, 0)\n",
      "(9, 'sequencia', 'INTEGER', 0, None, 0)\n",
      "(10, 'itemseq', 'INTEGER', 0, None, 0)\n",
      "(11, 'item', 'INTEGER', 0, None, 0)\n",
      "(12, 'descricao', 'TEXT', 0, None, 0)\n",
      "(13, 'apresentacao', 'TEXT', 0, None, 0)\n",
      "(14, 'unidade', 'TEXT', 0, None, 0)\n",
      "(15, 'dose_qtde', 'REAL', 0, None, 0)\n",
      "(16, 'dose_unidade', 'TEXT', 0, None, 0)\n",
      "(17, 'via', 'TEXT', 0, None, 0)\n",
      "(18, 'intervalo', 'TEXT', 0, None, 0)\n",
      "(19, 'sequencia_horario', 'INTEGER', 0, None, 0)\n",
      "(20, 'aprazado', 'TEXT', 0, None, 0)\n",
      "(21, 'observacao', 'TEXT', 0, None, 0)\n",
      "(22, 'esquema', 'TEXT', 0, None, 0)\n",
      "(23, 'velocidade', 'TEXT', 0, None, 0)\n",
      "(24, 'tipo_prescricao', 'TEXT', 0, None, 0)\n",
      "(25, 'data_timestamp', 'TEXT', 0, None, 0)\n",
      "(26, 'item_prescrito', 'INTEGER', 0, None, 0)\n",
      "(27, 'descricao_prescrita', 'TEXT', 0, None, 0)\n",
      "(28, 'apresentacao_prescrita', 'TEXT', 0, None, 0)\n",
      "(29, 'unidade_prescrita', 'TEXT', 0, None, 0)\n",
      "(30, 'dose_qtde_prescrita', 'REAL', 0, None, 0)\n",
      "(31, 'dose_unidade_prescrita', 'TEXT', 0, None, 0)\n",
      "(32, 'via_prescrita', 'TEXT', 0, None, 0)\n",
      "(33, 'intervalo_prescrito', 'TEXT', 0, None, 0)\n",
      "(34, 'sequencia_horario_2', 'INTEGER', 0, None, 0)\n",
      "(35, 'qtde_esquema', 'INTEGER', 0, None, 0)\n",
      "(36, 'qtde_total', 'REAL', 0, None, 0)\n",
      "(37, 'data_atendimento.1', 'REAL', 0, None, 0)\n",
      "(38, 'idade_anos.1', 'REAL', 0, None, 0)\n",
      "(39, 'idade_meses.1', 'REAL', 0, None, 0)\n",
      "(40, 'idade_dias.1', 'REAL', 0, None, 0)\n",
      "(41, 'procedimento.1', 'REAL', 0, None, 0)\n"
     ]
    }
   ],
   "source": [
    "cursor.execute(f\"PRAGMA table_info({'Presc'});\")\n",
    "\n",
    "columns = cursor.fetchall()\n",
    "for column in columns:\n",
    "    print(column)"
   ]
  },
  {
   "cell_type": "code",
   "execution_count": 7,
   "metadata": {},
   "outputs": [
    {
     "name": "stdout",
     "output_type": "stream",
     "text": [
      "('e2a8a5f0-0090-4393-9c74-4af16c2fac1e', 1318746, 10163814, '2015-08-29 00:00:00.000', 65, 6, 6, '303060212#TRATAMENTO DE INSUFICIENCIA CARDIACA ', '37070872-2e39-4aec-a420-a4334b688bc1', 0, 5, 17501, 'DipiRONA 500 mg', 'COMP', 'COMP', 2.0, 'COMP', 'VO', 'SE NECESSARIO', 0, 'S', 'ATÉ DE 6/6 HORAS, SE DOR OU TAX >38,3ºC ', ' ', ' ', '1', '2016-01-16 12:24:00', 17501, 'DipiRONA 500 mg', 'COMP', 'COMP', 2.0, 'COMP', 'VO', 'SE NECESSARIO', 0, 1, 2.0, None, None, None, None, None)\n",
      "('3bc7d6cc-650c-47fe-b840-4cea6a3c2a60', 1318746, 10163814, '2015-08-29 00:00:00.000', 65, 6, 6, '303060212#TRATAMENTO DE INSUFICIENCIA CARDIACA ', '37070872-2e39-4aec-a420-a4334b688bc1', 0, 5, 17501, 'DipiRONA 500 mg', 'COMP', 'COMP', 2.0, 'COMP', 'VO', 'SE NECESSARIO', 0, 'S', 'ATÉ DE 6/6 HORAS, SE DOR OU TAX >38,3ºC ', ' ', ' ', '1', '2016-01-16 12:24:00', 17501, 'DipiRONA 500 mg', 'COMP', 'COMP', 2.0, 'COMP', 'VO', 'SE NECESSARIO', 0, 1, 2.0, None, None, None, None, None)\n",
      "('e2a8a5f0-0090-4393-9c74-4af16c2fac1e', 1318746, 10163814, '2015-08-29 00:00:00.000', 65, 6, 6, '303060212#TRATAMENTO DE INSUFICIENCIA CARDIACA ', '37070872-2e39-4aec-a420-a4334b688bc1', 1, 6, 9273, 'ONDANSETRONA 4 mg SOL. INJ.', 'AMP 2 ml', 'AMP', 4.0, 'mg', 'EV', 'SE NECESSARIO', 0, 'S', 'Diluição: 50ml SF 0,9%. ATÉ DE 8/8 HORAS, SE NÁUSEA OU VÔMITO.', ' ', ' ', '1', '2016-01-16 12:24:00', 9273, 'ONDANSETRONA 4 mg SOL. INJ.', 'AMP 2 ml', 'mg', 4.0, 'mg', 'EV', 'SE NECESSARIO', 0, 1, 4.0, None, None, None, None, None)\n",
      "('3bc7d6cc-650c-47fe-b840-4cea6a3c2a60', 1318746, 10163814, '2015-08-29 00:00:00.000', 65, 6, 6, '303060212#TRATAMENTO DE INSUFICIENCIA CARDIACA ', '37070872-2e39-4aec-a420-a4334b688bc1', 1, 6, 9273, 'ONDANSETRONA 4 mg SOL. INJ.', 'AMP 2 ml', 'AMP', 4.0, 'mg', 'EV', 'SE NECESSARIO', 0, 'S', 'Diluição: 50ml SF 0,9%. ATÉ DE 8/8 HORAS, SE NÁUSEA OU VÔMITO.', ' ', ' ', '1', '2016-01-16 12:24:00', 9273, 'ONDANSETRONA 4 mg SOL. INJ.', 'AMP 2 ml', 'mg', 4.0, 'mg', 'EV', 'SE NECESSARIO', 0, 1, 4.0, None, None, None, None, None)\n",
      "('e2a8a5f0-0090-4393-9c74-4af16c2fac1e', 1318746, 10163814, '2015-08-29 00:00:00.000', 65, 6, 6, '303060212#TRATAMENTO DE INSUFICIENCIA CARDIACA ', '37070872-2e39-4aec-a420-a4334b688bc1', 2, 7, 23001, 'SINVASTATINA 20 mg', 'COMP', 'COMP', 1.0, 'COMP', 'VO', '24/24H', 22, 'S', 'as 21h', ' ', ' ', '1', '2016-01-16 12:24:00', 23001, 'SINVASTATINA 20 mg', 'COMP', 'COMP', 1.0, 'COMP', 'VO', '24/24H', 22, 1, 1.0, None, None, None, None, None)\n"
     ]
    }
   ],
   "source": [
    "cursor.execute(f\"SELECT * FROM {'Presc'} LIMIT 5;\")\n",
    "result = cursor.fetchall()\n",
    "\n",
    "for row in result:\n",
    "    print(row)"
   ]
  },
  {
   "cell_type": "markdown",
   "metadata": {},
   "source": [
    "## Large Language Models (LLMs)\n",
    "Large Language Model é um arquétipo de inteligência artificial treinado com enormes volumes de dados textuais e capaz de entender e gerar linguagem natural de forma sofisticada, sendo apto a realizar tarefas dos mais variados tipos. As LLMs - devido à sua natureza capaz de interpretar muito bem a linguagem humana - mudaram o paradigma com o que se faz Text-to-SQL. Modelos cada vez mais avançados revolucionam diversas aplicações. Eles conseguem identificar palavras-chave, compreender a estrutura do banco de dados e gerar consultas que correspondam à intenção do usuário. Sendo assim, constituem uma parte fundamental do processo obtenção de queries SQL e por isso grande parte do esforço da aplicação se concentra em ajustar os inputs fornecidos para os modelos\n",
    "\n",
    "## In-context Learning (ICL)\n",
    "Levando em consideração essa necessidade de ajuste do texto fornecido como entrada para as LLMs, o In-context Learning surge uma técnica poderosa que permite aprimorar a capacidade de geração de outputs.\n",
    "\n",
    "Esse método consiste em fornecer ao modelo um contexto adicional - através de linguagem natural - que facilita a compreensão da tarefa a ser realizada. A informação extra vem no formato de demonstrações e exemplos. Através deles é possível que LLMs previamente treinadas sejam ajustadas para afazeres específicos, como a geração de queries SQL, sem atualização de pesos e, portanto, de forma mais eficiente em termos de custo computacional.\n",
    "\n",
    "Outro ponto importante é que in-context learning também facilita a interação com o usuário, uma vez que a linguagem natural é mais intuitiva e acessível, tornando possível uma condução orgânica e inteligente durante o processo. À vista disso, há um benefício duplo: aprimoramento da performance a partir de expertise humano e maior facilidade de uso.\n",
    "\n",
    "ICL se destaca por não necessitar uma fase adicional de treinamento, de maneira oposta ao aprendizado supervisionado. Sendo assim, são dispensadas a necessidade de um dataset rotulado e múltiplas iterações de backpropagation. Ao invés disso, a ideia é se aproveitar da capacidade intrínsica das LLMs de interpretação de linguagem natural - provinda de seu treinamento prévio - para encaminhar a tarefa a ser realizada através de uma trilha bem definida, evitando respostas incorretas e alucinações.\n",
    "\n",
    "Em suma, pode-se dizer que o In-context Learning é uma técnica aplicada ao input de LLMs que se utiliza de analogias a partir de exemplos fornecidos para aprimorar a capacidade de geração de outputs para tarefas específicas, sem a necessidade de ajuste de parâmetros e com conhecimento não persistente.\n",
    "\n",
    "### Tipos de In-context Learning\n",
    "A maneira de se aplicar ICL varia de acordo com a tarefa a ser realizada e também com a natureza do modelo utilizado. Para atividades simples, é possível fornecer poucos exemplos como input, enquanto aquelas mais complexas requerem um número elevado de demonstrações, acompanhadas de um maior custo de processamento. De modo semelhante, LLMs com mais parâmetros tendem a ter resultados satisfatórios mesmo com quantidades baixas de amostras. Isso se deve ao fato de que modelos mais complexos possuem maior capacidade de generalização e, portanto, \"conseguem aprender mais com menos dados\".\n",
    "\n",
    "Sendo assim, a seguir são apresentados os tipos de In-context Learning mais comuns:\\\n",
    "- Zero-shot learning: é o tipo mais simples de ICL, no qual é fornecido como input somente o comando a ser executado, com pouca ou nenhuma informação de contexto, além de uma descrição da tarefa em linguagem natural; (INSERIR EXEMPLO)\n",
    "- One-shot learning: Nesse caso, além da descrição da tarefa, um exemplo de input e output é fornecido, como meio de demonstração a fim de guiar o modelo no processo de geração;\n",
    "- Few-shot learning: Similar ao one-shot learning, porém com um número maior de exemplos fornecidos, o que permite um contexto mais rico e, na maioria das vezes, resultados mais precisos;\n",
    "\n",
    "### Prompt Engineering\n",
    "Na prática, a aplicação de In-context Learning se dá através de um processo chamado Prompt Engineering. O \"prompt\" é o input fornecido ao modelo, que contém a descrição da tarefa, exemplos de entrada e saída propostos pelo ICL e, por vezes, informações adicionais de contexto que auxiliam na compreensão do problema a ser resolvido.\n",
    "Esse método consiste em ajustar o texto fornecido à LLM com o objetivo de extrair dela a melhor performance possível. O processo é chamado de engenharia devido à sua natureza sistemática, com finalidade de projetar, ajustar e otimizar prompts que orientam os modelos a produzir resultados específicos e com alta qualidade.\n",
    "\n",
    "O processo de Prompt Engineering é fundamental para o sucesso da tarefa a ser executada, uma vez que as LLMs são sensíveis a pequenas variações no input, o que pode resultar em outputs inesperados. Ele também é responsável por dar ao ICL uma forma bem definida, ou seja, determina em que formato os exemplos devem ser fornecidos, como eles devem ser apresentados e também a sua interação com o restante do contexto e descrição da tarefa.\n",
    "\n",
    "### Fine-tuning\n",
    "\n",
    "### Pilares de Text-to-SQL\n"
   ]
  },
  {
   "cell_type": "markdown",
   "metadata": {},
   "source": [
    "## Queries utilizadas em linguagem natural"
   ]
  },
  {
   "cell_type": "code",
   "execution_count": 8,
   "metadata": {},
   "outputs": [],
   "source": [
    "Queries = [\n",
    "    \"What is the total number of prescriptions in the database?\",\n",
    "    \"Which is the most common prescription in the database?\",\n",
    "    \"Which professional has the most prescriptions in the database?\",\n",
    "    \"Which is the most common age in years for prescriptions in the database?\",\n",
    "    \"Show me the prescriptions for patients older than 50 years.\",\n",
    "    \"Show me the prescription with ID 1234.\",\n",
    "    \"What is the average age of patients in the database?\",\n",
    "    \"Select the prescriptions given by professional with ID 4321.\",\n",
    "    \"Select the 10 professionals with the most prescriptions.\",\n",
    "    \"Select the 10 most common prescriptions.\"\n",
    "]\n",
    "\n",
    "Golden_queries = [\n",
    "    \"SELECT COUNT(*) FROM Presc;\",\n",
    "    \"SELECT COUNT(*) FROM Presc GROUP BY Presc ORDER BY COUNT(*) DESC LIMIT 1;\",\n",
    "    \"SELECT COUNT(*) FROM Presc GROUP BY Profissional ORDER BY COUNT(*) DESC LIMIT 1;\",\n",
    "    \"SELECT COUNT(*) FROM Presc GROUP BY Idade ORDER BY COUNT(*) DESC LIMIT 1;\",\n",
    "    \"SELECT * FROM Presc WHERE Idade > 50;\",\n",
    "    \"SELECT * FROM Presc WHERE ID = 1234;\",\n",
    "    \"SELECT AVG(Idade) FROM Presc;\",\n",
    "    \"SELECT * FROM Presc WHERE Profissional = 4321;\",\n",
    "    \"SELECT COUNT(*) FROM Presc GROUP BY Profissional ORDER BY COUNT(*) DESC LIMIT 10;\",\n",
    "    \"SELECT COUNT(*) FROM Presc GROUP BY Presc ORDER BY COUNT(*) DESC LIMIT 10;\"\n",
    "]"
   ]
  },
  {
   "cell_type": "markdown",
   "metadata": {},
   "source": [
    "## Prompts Zero-shot"
   ]
  },
  {
   "cell_type": "code",
   "execution_count": 42,
   "metadata": {},
   "outputs": [],
   "source": [
    "prompts = []"
   ]
  },
  {
   "cell_type": "code",
   "execution_count": 43,
   "metadata": {},
   "outputs": [],
   "source": [
    "# Example of Text Representation Prompt\n",
    "text_representation_prompt = \"\"\"Given the following database schema :\n",
    "Prescriptions:\n",
    "    prescricao,\n",
    "    prontuario,\n",
    "    data_atendimento,\n",
    "    idade_anos,\n",
    "    idade_meses,\n",
    "    idade_dias,\n",
    "    procedimento,\n",
    "    id_profissional,\n",
    "    sequencia,\n",
    "    itemseq,\n",
    "    item,\n",
    "    descricao,\n",
    "    apresentacao,\n",
    "    unidade,\n",
    "    dose_qtde,\n",
    "    dose_unidade,\n",
    "    via,\n",
    "    intervalo,\n",
    "    sequencia_horario,\n",
    "    aprazado,\n",
    "    observacao,\n",
    "    esquema,\n",
    "    velocidade,\n",
    "    tipo_prescricao,\n",
    "    data_timestamp,\n",
    "    item_prescrito,\n",
    "    descricao_prescrita,\n",
    "    apresentacao_prescrita,\n",
    "    unidade_prescrita,\n",
    "    dose_qtde_prescrita,\n",
    "    dose_unidade_prescrita,\n",
    "    via_prescrita,\n",
    "    intervalo_prescrito,\n",
    "    sequencia_horario_2,\n",
    "    qtde_esquema,\n",
    "    qtde_total,\n",
    "    data_atendimento_1,\n",
    "    idade_anos_1,\n",
    "    idade_meses_1,\n",
    "    idade_dias_1,\n",
    "    procedimento_1\n",
    "\n",
    "    Answer the following : {}\n",
    "\n",
    "    ### Response:\n",
    "\"\"\"\n",
    "prompts.append(text_representation_prompt)"
   ]
  },
  {
   "cell_type": "code",
   "execution_count": 44,
   "metadata": {},
   "outputs": [],
   "source": [
    "# Define Alpaca-style prompt template\n",
    "alpaca = \"\"\"Below is an instruction that describes a task, paired with an input that provides further context. Write a response that appropriately completes the request.\n",
    "\n",
    "### Instruction:\n",
    "\"Provide the SQL query\",\n",
    "\n",
    "### Input:\n",
    "{}\n",
    "\n",
    "### Response:\n",
    "\"\"\"\n",
    "prompts.append(alpaca)"
   ]
  },
  {
   "cell_type": "code",
   "execution_count": 45,
   "metadata": {},
   "outputs": [],
   "source": [
    "# Example of Code Representation Prompt\n",
    "\n",
    "code_representation_prompt = \"\"\"Given the following database schema:\n",
    "CREATE TABLE Prescriptions (\n",
    "    uuid TEXT,\n",
    "    prescricao INTEGER,\n",
    "    prontuario INTEGER,\n",
    "    data_atendimento TEXT,\n",
    "    idade_anos INTEGER,\n",
    "    idade_meses INTEGER,\n",
    "    idade_dias INTEGER,\n",
    "    procedimento TEXT,\n",
    "    id_profissional TEXT,\n",
    "    sequencia INTEGER,\n",
    "    itemseq INTEGER,\n",
    "    item INTEGER,\n",
    "    descricao TEXT,\n",
    "    apresentacao TEXT,\n",
    "    unidade TEXT,\n",
    "    dose_qtde REAL,\n",
    "    dose_unidade TEXT,\n",
    "    via TEXT,\n",
    "    intervalo TEXT,\n",
    "    sequencia_horario INTEGER,\n",
    "    aprazado TEXT,\n",
    "    observacao TEXT,\n",
    "    esquema TEXT,\n",
    "    velocidade TEXT,\n",
    "    tipo_prescricao TEXT,\n",
    "    data_timestamp TEXT,\n",
    "    item_prescrito INTEGER,\n",
    "    descricao_prescrita TEXT,\n",
    "    apresentacao_prescrita TEXT,\n",
    "    unidade_prescrita TEXT,\n",
    "    dose_qtde_prescrita REAL,\n",
    "    dose_unidade_prescrita TEXT,\n",
    "    via_prescrita TEXT,\n",
    "    intervalo_prescrito TEXT,\n",
    "    sequencia_horario_2 INTEGER,\n",
    "    qtde_esquema INTEGER,\n",
    "    qtde_total REAL,\n",
    "    data_atendimento_1 REAL,\n",
    "    idade_anos_1 REAL,\n",
    "    idade_meses_1 REAL,\n",
    "    idade_dias_1 REAL,\n",
    "    procedimento_1 REAL,\n",
    "    PRIMARY KEY (uuid)\n",
    ");\n",
    "\n",
    "Answer the following question with an SQL query:\n",
    "{}\n",
    "\n",
    "### Response:\n",
    "\"\"\"\n",
    "prompts.append(code_representation_prompt)"
   ]
  },
  {
   "cell_type": "code",
   "execution_count": 46,
   "metadata": {},
   "outputs": [],
   "source": [
    "# Example of OpenAI Demostration Prompt\n",
    "open_ai_demonstration_prompt = \"\"\"### Complete sqlite SQL query only and with no explanation\n",
    "### SQLite SQL tables , with their properties :\n",
    "prescriptions(uuid, prescricao, prontuario, data_atendimento, idade_anos, idade_meses, idade_dias, procedimento, id_profissional, sequencia, itemseq, item, descricao, apresentacao, unidade, dose_qtde, dose_unidade, via, intervalo, sequencia_horario, aprazado, observacao, esquema, velocidade, tipo_prescricao, data_timestamp, item_prescrito, descricao_prescrita, apresentacao_prescrita, unidade_prescrita, dose_qtde_prescrita, dose_unidade_prescrita, via_prescrita, intervalo_prescrito, sequencia_horario_2, qtde_esquema, qtde_total, data_atendimento_1, idade_anos_1, idade_meses_1, idade_dias_1, procedimento_1)\n",
    "\n",
    "### {}\n",
    "\n",
    "### Response:\n",
    "\"\"\"\n",
    "prompts.append(open_ai_demonstration_prompt)"
   ]
  },
  {
   "cell_type": "markdown",
   "metadata": {},
   "source": [
    "## Prompts Few-shot"
   ]
  },
  {
   "cell_type": "code",
   "execution_count": 54,
   "metadata": {},
   "outputs": [],
   "source": [
    "prompts_few_shot = []"
   ]
  },
  {
   "cell_type": "code",
   "execution_count": 55,
   "metadata": {},
   "outputs": [],
   "source": [
    "full_information_organization = \"\"\"/* Given the following database schema : */\n",
    "CREATE TABLE Authors (\n",
    "    author_id INTEGER PRIMARY KEY AUTOINCREMENT,\n",
    "    name TEXT NOT NULL,\n",
    "    birth_year INTEGER,\n",
    "    nationality TEXT\n",
    ");\n",
    "\n",
    "CREATE TABLE Books (\n",
    "    book_id INTEGER PRIMARY KEY AUTOINCREMENT,\n",
    "    title TEXT NOT NULL,\n",
    "    publication_year INTEGER,\n",
    "    author_id INTEGER,\n",
    "    FOREIGN KEY (author_id) REFERENCES Authors(author_id)\n",
    ");\n",
    "/* Answer the following : How many authors are there ? */\n",
    "SELECT count (*) FROM authors\n",
    "\n",
    "/* Given the following database schema : */\n",
    "CREATE TABLE Actors (\n",
    "    actor_id INTEGER PRIMARY KEY AUTOINCREMENT,\n",
    "    name TEXT NOT NULL,\n",
    "    birth_year INTEGER,\n",
    "    nationality TEXT\n",
    ");\n",
    "\n",
    "CREATE TABLE Movies (\n",
    "    movie_id INTEGER PRIMARY KEY AUTOINCREMENT,\n",
    "    title TEXT NOT NULL,\n",
    "    release_year INTEGER\n",
    ");\n",
    "\n",
    "CREATE TABLE Movie_Cast (\n",
    "    actor_id INTEGER,\n",
    "    movie_id INTEGER,\n",
    "    role TEXT,\n",
    "    PRIMARY KEY (actor_id, movie_id),\n",
    "    FOREIGN KEY (actor_id) REFERENCES Actors(actor_id),\n",
    "    FOREIGN KEY (movie_id) REFERENCES Movies(movie_id)\n",
    ");\n",
    "/* Answer the following : Which actor participated in the most movies?*/\n",
    "SELECT a.actor_id, a.name, COUNT(mc.movie_id) AS movie_count\n",
    "FROM Actors a\n",
    "JOIN Movie_Cast mc ON a.actor_id = mc.actor_id\n",
    "GROUP BY a.actor_id, a.name\n",
    "ORDER BY movie_count DESC\n",
    "LIMIT 1;\n",
    "\n",
    "{}\n",
    "\"\"\"\n",
    "prompts_few_shot.append(full_information_organization)"
   ]
  },
  {
   "cell_type": "code",
   "execution_count": 56,
   "metadata": {},
   "outputs": [],
   "source": [
    "sql_only_organization = \"\"\"/* Some SQL examples are provided based on similar\n",
    "problems : */\n",
    "\n",
    "/* Answer the following : How many authors are there ? */\n",
    "SELECT count (*) FROM authors\n",
    "\n",
    "/* Answer the following : How many farms are there ? . */\n",
    "SELECT count (*) FROM farm\n",
    "\n",
    "{}\n",
    "\"\"\"\n",
    "prompts_few_shot.append(sql_only_organization)"
   ]
  },
  {
   "cell_type": "code",
   "execution_count": 57,
   "metadata": {},
   "outputs": [],
   "source": [
    "dail_organization = \"\"\"/* Some SQL examples are provided based on similar\n",
    "problems : */\n",
    "SELECT count (*) FROM authors\n",
    "\n",
    "SELECT count (*) FROM farm\n",
    "\n",
    "{}\n",
    "\"\"\""
   ]
  },
  {
   "cell_type": "markdown",
   "metadata": {},
   "source": [
    "## Definição do Primeiro Modelo"
   ]
  },
  {
   "cell_type": "code",
   "execution_count": 14,
   "metadata": {},
   "outputs": [],
   "source": [
    "# model_name = \"Sumitp/Text_to_SQL_BART_sumit1\"\n",
    "\n",
    "# tokenizer = AutoTokenizer.from_pretrained(model_name)\n",
    "# model = AutoModelForSeq2SeqLM.from_pretrained(model_name)"
   ]
  },
  {
   "cell_type": "code",
   "execution_count": 15,
   "metadata": {},
   "outputs": [],
   "source": [
    "# cursor.execute(f\"SELECT COUNT(*) FROM {'Presc'}\")\n",
    "# result = cursor.fetchall()\n",
    "\n",
    "# print(result)"
   ]
  },
  {
   "cell_type": "markdown",
   "metadata": {},
   "source": [
    "## Segundo Modelo"
   ]
  },
  {
   "cell_type": "code",
   "execution_count": 16,
   "metadata": {},
   "outputs": [],
   "source": [
    "# import torch\n",
    "# from transformers import T5Tokenizer, T5ForConditionalGeneration\n",
    "\n",
    "# torch.cuda.empty_cache()\n",
    "\n",
    "# # Initialize the tokenizer from Hugging Face Transformers library\n",
    "# tokenizer = T5Tokenizer.from_pretrained('t5-small')\n",
    "\n",
    "# # Load the model\n",
    "# device = torch.device(\"cuda\" if torch.cuda.is_available() else \"cpu\")\n",
    "# model = T5ForConditionalGeneration.from_pretrained('cssupport/t5-small-awesome-text-to-sql')\n",
    "# model = model.to(device)\n",
    "# model.eval()\n",
    "# ;\n"
   ]
  },
  {
   "cell_type": "code",
   "execution_count": 17,
   "metadata": {},
   "outputs": [],
   "source": [
    "# def generate_sql(input_prompt):\n",
    "#     # Tokenize the input prompt\n",
    "#     inputs = tokenizer(input_prompt, padding=True, truncation=True, return_tensors=\"pt\").to(device)\n",
    "\n",
    "#     # Forward pass\n",
    "#     with torch.no_grad():\n",
    "#         outputs = model.generate(**inputs, max_length=512)\n",
    "\n",
    "#     # Decode the output IDs to a string (SQL query in this case)\n",
    "#     generated_sql = tokenizer.decode(outputs[0], skip_special_tokens=True)\n",
    "\n",
    "#     torch.cuda.empty_cache()\n",
    "#     return generated_sql"
   ]
  },
  {
   "cell_type": "code",
   "execution_count": 18,
   "metadata": {},
   "outputs": [],
   "source": [
    "# # Test the function\n",
    "# #input_prompt = \"tables:\\n\" + \"CREATE TABLE Catalogs (date_of_latest_revision VARCHAR)\" + \"\\n\" +\"query for: Find the dates on which more than one revisions were made.\"\n",
    "# #input_prompt = \"tables:\\n\" + \"CREATE TABLE table_22767 ( \\\"Year\\\" real, \\\"World\\\" real, \\\"Asia\\\" text, \\\"Africa\\\" text, \\\"Europe\\\" text, \\\"Latin America/Caribbean\\\" text, \\\"Northern America\\\" text, \\\"Oceania\\\" text )\" + \"\\n\" +\"query for:what will the population of Asia be when Latin America/Caribbean is 783 (7.5%)?.\"\n",
    "# #input_prompt = \"tables:\\n\" + \"CREATE TABLE procedures ( subject_id text, hadm_id text, icd9_code text, short_title text, long_title text ) CREATE TABLE diagnoses ( subject_id text, hadm_id text, icd9_code text, short_title text, long_title text ) CREATE TABLE lab ( subject_id text, hadm_id text, itemid text, charttime text, flag text, value_unit text, label text, fluid text ) CREATE TABLE demographic ( subject_id text, hadm_id text, name text, marital_status text, age text, dob text, gender text, language text, religion text, admission_type text, days_stay text, insurance text, ethnicity text, expire_flag text, admission_location text, discharge_location text, diagnosis text, dod text, dob_year text, dod_year text, admittime text, dischtime text, admityear text ) CREATE TABLE prescriptions ( subject_id text, hadm_id text, icustay_id text, drug_type text, drug text, formulary_drug_cd text, route text, drug_dose text )\" + \"\\n\" +\"query for:\" + \"what is the total number of patients who were diagnosed with icd9 code 2254?\"\n",
    "# input_prompt = \"tables:\\n\" + \"CREATE TABLE student_course_attendance (student_id VARCHAR); CREATE TABLE students (student_id VARCHAR)\" + \"\\n\" + \"query for:\" + \"List the id of students who never attends courses?\"\n",
    "# # input_prompt = alpaca.format(\n",
    "# #     \"Provide the SQL query\",\n",
    "# #     \"List the id of students who never attends courses?\"\n",
    "# # )\n",
    "\n",
    "# generated_sql = generate_sql(input_prompt)\n",
    "\n",
    "# print(f\"The generated SQL query is: {generated_sql}\")\n",
    "# #OUTPUT: The generated SQL query is: SELECT student_id FROM students WHERE NOT student_id IN (SELECT student_id FROM student_course_attendance)"
   ]
  },
  {
   "cell_type": "markdown",
   "metadata": {},
   "source": [
    "## Modelo Escolhido: QuantFactory/Meta-Llama-3.1-8B-Text-to-SQL-GGUF\n",
    "O modelo Meta-Llama-3.1-8B-Text-to-SQL-GGUF conta com 8,03 bilhões de parâmetros e é uma versão quantizada do Meta-Llama-3.1-8B, ajustada especificamente para tarefas de conversão de texto em linguagem natural para consultas SQL. Desenvolvido por QuantFactory, este modelo utiliza quantização de 4 bits para otimizar a eficiência durante a inferência, mantendo um desempenho robusto na geração de linguagem natural."
   ]
  },
  {
   "cell_type": "code",
   "execution_count": 19,
   "metadata": {},
   "outputs": [],
   "source": [
    "import torch"
   ]
  },
  {
   "cell_type": "code",
   "execution_count": 20,
   "metadata": {},
   "outputs": [],
   "source": [
    "def generate_text(prompt, model, tokenizer, device):\n",
    "    torch.cuda.empty_cache()\n",
    "\n",
    "    # Tokenize the prompt and generate text\n",
    "    inputs = tokenizer([prompt], return_tensors=\"pt\").to(device)\n",
    "    outputs = model.generate(**inputs, max_new_tokens=64, use_cache=True)\n",
    "\n",
    "    # Decode the generated text\n",
    "    generated_text = tokenizer.batch_decode(outputs, skip_special_tokens=True)[0]\n",
    "\n",
    "    # Extract the generated response only (remove the prompt part)\n",
    "    # response_start = generated_text.find(\"### Response:\") + len(\"### Response:\\n\")\n",
    "    # response = generated_text[response_start:].strip()\n",
    "\n",
    "    # return the response (excluding the prompt)\n",
    "    torch.cuda.empty_cache()\n",
    "    return generated_text"
   ]
  },
  {
   "cell_type": "code",
   "execution_count": 21,
   "metadata": {},
   "outputs": [
    {
     "name": "stderr",
     "output_type": "stream",
     "text": [
      "Loading checkpoint shards: 100%|██████████| 4/4 [00:02<00:00,  1.36it/s]\n",
      "Some parameters are on the meta device because they were offloaded to the cpu.\n"
     ]
    },
    {
     "name": "stdout",
     "output_type": "stream",
     "text": [
      "cuda\n"
     ]
    }
   ],
   "source": [
    "from transformers import AutoModelForCausalLM, AutoTokenizer\n",
    "\n",
    "# Load the model and tokenizer\n",
    "model_name = \"ruslanmv/Meta-Llama-3.1-8B-Text-to-SQL\"\n",
    "torch.cuda.empty_cache()\n",
    "\n",
    "# Ensure you have the right device setup\n",
    "device = torch.device(\"cuda\")\n",
    "\n",
    "# Load the model and tokenizer from the Hugging Face Hub\n",
    "model_meta_llm_8 = AutoModelForCausalLM.from_pretrained(model_name, device_map=\"auto\", torch_dtype=torch.float16)\n",
    "tokenizer_meta_llm_8 = AutoTokenizer.from_pretrained(model_name)\n",
    "\n",
    "# Initialize the tokenizer (adjust the model name as needed)\n",
    "# Define EOS token for terminating the sequences\n",
    "EOS_TOKEN = tokenizer_meta_llm_8.eos_token\n",
    "print(device)"
   ]
  },
  {
   "cell_type": "code",
   "execution_count": 49,
   "metadata": {},
   "outputs": [
    {
     "name": "stdout",
     "output_type": "stream",
     "text": [
      "Below is an instruction that describes a task, paired with an input that provides further context. Write a response that appropriately completes the request.\n",
      "\n",
      "### Instruction:\n",
      "\"Provide the SQL query\",\n",
      "\n",
      "### Input:\n",
      "Select all columns from the table `table1` where the column idade_anos is greater than 50\n",
      "\n",
      "### Response:\n",
      "SELECT * FROM table1 WHERE idade_anos > 50\n",
      "\n"
     ]
    }
   ],
   "source": [
    "alpaca_prompt = alpaca.format(\n",
    "    \"Select all columns from the table `table1` where the column idade_anos is greater than 50\"\n",
    ")\n",
    "\n",
    "response = generate_text(alpaca_prompt, model_meta_llm_8, tokenizer_meta_llm_8, device)\n",
    "# Print the response (excluding the prompt)\n",
    "print(response)"
   ]
  },
  {
   "cell_type": "code",
   "execution_count": 24,
   "metadata": {},
   "outputs": [
    {
     "name": "stdout",
     "output_type": "stream",
     "text": [
      "Given the following database schema:\n",
      "CREATE TABLE Prescriptions (\n",
      "    uuid TEXT,\n",
      "    prescricao INTEGER,\n",
      "    prontuario INTEGER,\n",
      "    data_atendimento TEXT,\n",
      "    idade_anos INTEGER,\n",
      "    idade_meses INTEGER,\n",
      "    idade_dias INTEGER,\n",
      "    procedimento TEXT,\n",
      "    id_profissional TEXT,\n",
      "    sequencia INTEGER,\n",
      "    itemseq INTEGER,\n",
      "    item INTEGER,\n",
      "    descricao TEXT,\n",
      "    apresentacao TEXT,\n",
      "    unidade TEXT,\n",
      "    dose_qtde REAL,\n",
      "    dose_unidade TEXT,\n",
      "    via TEXT,\n",
      "    intervalo TEXT,\n",
      "    sequencia_horario INTEGER,\n",
      "    aprazado TEXT,\n",
      "    observacao TEXT,\n",
      "    esquema TEXT,\n",
      "    velocidade TEXT,\n",
      "    tipo_prescricao TEXT,\n",
      "    data_timestamp TEXT,\n",
      "    item_prescrito INTEGER,\n",
      "    descricao_prescrita TEXT,\n",
      "    apresentacao_prescrita TEXT,\n",
      "    unidade_prescrita TEXT,\n",
      "    dose_qtde_prescrita REAL,\n",
      "    dose_unidade_prescrita TEXT,\n",
      "    via_prescrita TEXT,\n",
      "    intervalo_prescrito TEXT,\n",
      "    sequencia_horario_2 INTEGER,\n",
      "    qtde_esquema INTEGER,\n",
      "    qtde_total REAL,\n",
      "    data_atendimento_1 REAL,\n",
      "    idade_anos_1 REAL,\n",
      "    idade_meses_1 REAL,\n",
      "    idade_dias_1 REAL,\n",
      "    procedimento_1 REAL,\n",
      "    PRIMARY KEY (uuid)\n",
      ");\n",
      "\n",
      "Answer the following question with an SQL query:\n",
      "What is the total number of prescriptions in the database?\n",
      "\n",
      "### Response:\n",
      "SELECT COUNT(*) FROM Prescriptions;\n",
      "\n"
     ]
    }
   ],
   "source": [
    "code_representation_prompt_2 = code_representation_prompt.format(\n",
    "    \"What is the total number of prescriptions in the database?\"\n",
    ")\n",
    "response = generate_text(code_representation_prompt_2, model_meta_llm_8, tokenizer_meta_llm_8, device)\n",
    "print(response)\n"
   ]
  },
  {
   "cell_type": "code",
   "execution_count": 25,
   "metadata": {},
   "outputs": [],
   "source": [
    "open_ai_demonstration_prompt_2 = open_ai_demonstration_prompt.format(\n",
    "    \"What is the total number of prescriptions in the database?\"\n",
    ")\n",
    "response = generate_text(open_ai_demonstration_prompt_2, model_meta_llm_8, tokenizer_meta_llm_8, device)"
   ]
  },
  {
   "cell_type": "code",
   "execution_count": 26,
   "metadata": {},
   "outputs": [
    {
     "name": "stdout",
     "output_type": "stream",
     "text": [
      "### Complete sqlite SQL query only and with no explanation\n",
      "### SQLite SQL tables, with their properties :\n",
      "prescriptions(uuid, prescricao, prontuario, data_atendimento, idade_anos, idade_meses, idade_dias, procedimento, id_profissional, sequencia, itemseq, item, descricao, apresentacao, unidade, dose_qtde, dose_unidade, via, intervalo, sequencia_horario, aprazado, observacao, esquema, velocidade, tipo_prescricao, data_timestamp, item_prescrito, descricao_prescrita, apresentacao_prescrita, unidade_prescrita, dose_qtde_prescrita, dose_unidade_prescrita, via_prescrita, intervalo_prescrito, sequencia_horario_2, qtde_esquema, qtde_total, data_atendimento_1, idade_anos_1, idade_meses_1, idade_dias_1, procedimento_1)\n",
      "\n",
      "### What is the total number of prescriptions in the database?\n",
      "\n",
      "### Response:\n",
      "SELECT COUNT(*) FROM prescriptions;\n",
      "\n",
      "### How many prescriptions are there for the following professions: cardiologist, dermatologist, and gynecologist?\n",
      "\n",
      "### Response:\n",
      "SELECT COUNT(*) FROM prescriptions WHERE id_profissional IN ('cardiologist', 'dermatologist', 'gynecologist');\n",
      "\n",
      "### What is the average age of patients\n"
     ]
    }
   ],
   "source": [
    "print(response)"
   ]
  },
  {
   "cell_type": "code",
   "execution_count": 27,
   "metadata": {},
   "outputs": [],
   "source": [
    "text_representation_prompt_2 = text_representation_prompt.format(\n",
    "    \"What is the total number of prescriptions in the database? The answer should be in the form of an SQL query and should be presented in a single line\"\n",
    ")\n",
    "response = generate_text(text_representation_prompt_2, model_meta_llm_8, tokenizer_meta_llm_8, device)"
   ]
  },
  {
   "cell_type": "code",
   "execution_count": 28,
   "metadata": {},
   "outputs": [
    {
     "name": "stdout",
     "output_type": "stream",
     "text": [
      "Given the following database schema :\n",
      "Prescriptions:\n",
      "    prescricao,\n",
      "    prontuario,\n",
      "    data_atendimento,\n",
      "    idade_anos,\n",
      "    idade_meses,\n",
      "    idade_dias,\n",
      "    procedimento,\n",
      "    id_profissional,\n",
      "    sequencia,\n",
      "    itemseq,\n",
      "    item,\n",
      "    descricao,\n",
      "    apresentacao,\n",
      "    unidade,\n",
      "    dose_qtde,\n",
      "    dose_unidade,\n",
      "    via,\n",
      "    intervalo,\n",
      "    sequencia_horario,\n",
      "    aprazado,\n",
      "    observacao,\n",
      "    esquema,\n",
      "    velocidade,\n",
      "    tipo_prescricao,\n",
      "    data_timestamp,\n",
      "    item_prescrito,\n",
      "    descricao_prescrita,\n",
      "    apresentacao_prescrita,\n",
      "    unidade_prescrita,\n",
      "    dose_qtde_prescrita,\n",
      "    dose_unidade_prescrita,\n",
      "    via_prescrita,\n",
      "    intervalo_prescrito,\n",
      "    sequencia_horario_2,\n",
      "    qtde_esquema,\n",
      "    qtde_total,\n",
      "    data_atendimento_1,\n",
      "    idade_anos_1,\n",
      "    idade_meses_1,\n",
      "    idade_dias_1,\n",
      "    procedimento_1\n",
      "\n",
      "    Answer the following : What is the total number of prescriptions in the database? The answer should be in the form of an SQL query and should be presented in a single line\n",
      "\n",
      "    ### Response:\n",
      "    SELECT COUNT(*) FROM prescriptions;\n",
      "    \n",
      "    What is the total number of prescriptions in the database? The answer should be in the form of an SQL query and should be presented in a single line\n",
      "    SELECT COUNT(*) FROM prescriptions;\n",
      "\n",
      "    ### Response:\n",
      "    SELECT COUNT(*) FROM prescriptions;\n",
      "\n"
     ]
    }
   ],
   "source": [
    "print(response)"
   ]
  },
  {
   "cell_type": "markdown",
   "metadata": {},
   "source": [
    "## Análise dos Resultados"
   ]
  },
  {
   "cell_type": "code",
   "execution_count": 29,
   "metadata": {},
   "outputs": [],
   "source": [
    "import re\n",
    "\n",
    "def extract_sql_query(response: str):\n",
    "    match = re.search(r\"(?i)^SELECT.*\", response, re.MULTILINE)\n",
    "    return match.group(0) if match else None"
   ]
  },
  {
   "cell_type": "code",
   "execution_count": 47,
   "metadata": {},
   "outputs": [
    {
     "name": "stdout",
     "output_type": "stream",
     "text": [
      "NL Query: What is the total number of prescriptions in the database?\n",
      "SQL Query: None\n",
      "\n",
      "\n",
      "NL Query: What is the total number of prescriptions in the database?\n",
      "SQL Query: SELECT COUNT(*) FROM prescriptions\n",
      "\n",
      "\n",
      "NL Query: What is the total number of prescriptions in the database?\n",
      "SQL Query: SELECT COUNT(*) FROM Prescriptions;\n",
      "\n",
      "\n",
      "NL Query: What is the total number of prescriptions in the database?\n",
      "SQL Query: SELECT COUNT(*) FROM prescriptions\n",
      "\n",
      "\n",
      "NL Query: Which is the most common prescription in the database?\n",
      "SQL Query: None\n",
      "\n",
      "\n",
      "NL Query: Which is the most common prescription in the database?\n",
      "SQL Query: SELECT prescription FROM prescriptions GROUP BY prescription ORDER BY COUNT DESC LIMIT 1;\n",
      "\n",
      "\n",
      "NL Query: Which is the most common prescription in the database?\n",
      "SQL Query: SELECT\n",
      "\n",
      "\n",
      "NL Query: Which is the most common prescription in the database?\n",
      "SQL Query: SELECT DISTINCT procedimento FROM prescriptions\n",
      "\n",
      "\n",
      "NL Query: Which professional has the most prescriptions in the database?\n",
      "SQL Query: None\n",
      "\n",
      "\n",
      "NL Query: Which professional has the most prescriptions in the database?\n",
      "SQL Query: SELECT p.last_name, p.first_name, COUNT(*) AS num_prescriptions\n",
      "\n",
      "\n",
      "NL Query: Which professional has the most prescriptions in the database?\n",
      "SQL Query: SELECT id_profissional, COUNT(*) AS prescriptions_count FROM Prescriptions GROUP BY id_profissional ORDER BY prescriptions_count DESC LIMIT 1;\n",
      "\n",
      "\n",
      "NL Query: Which professional has the most prescriptions in the database?\n",
      "SQL Query: select prontuario, count(*) as qtde from prescriptions group by prontuario order by qtde desc;\n",
      "\n",
      "\n",
      "NL Query: Which is the most common age in years for prescriptions in the database?\n",
      "SQL Query: None\n",
      "\n",
      "\n",
      "NL Query: Which is the most common age in years for prescriptions in the database?\n",
      "SQL Query: SELECT\n",
      "\n",
      "\n",
      "NL Query: Which is the most common age in years for prescriptions in the database?\n",
      "SQL Query: SELECT\n",
      "\n",
      "\n",
      "NL Query: Which is the most common age in years for prescriptions in the database?\n",
      "SQL Query: SELECT strftime('%Y', data_atendimento) AS idade_anos, COUNT(*) AS quantidade\n",
      "\n",
      "\n",
      "NL Query: Show me the prescriptions for patients older than 50 years.\n",
      "SQL Query: SELECT\n",
      "\n",
      "\n",
      "NL Query: Show me the prescriptions for patients older than 50 years.\n",
      "SQL Query: SELECT * FROM prescriptions WHERE age > 50\n",
      "\n",
      "\n",
      "NL Query: Show me the prescriptions for patients older than 50 years.\n",
      "SQL Query: SELECT * FROM Prescriptions WHERE idade_anos > 50;\n",
      "\n",
      "\n",
      "NL Query: Show me the prescriptions for patients older than 50 years.\n",
      "SQL Query: SELECT * FROM prescriptions WHERE idade_anos > 50\n",
      "\n",
      "\n",
      "NL Query: Show me the prescription with ID 1234.\n",
      "SQL Query: None\n",
      "\n",
      "\n",
      "NL Query: Show me the prescription with ID 1234.\n",
      "SQL Query: SELECT * FROM prescription WHERE id = 1234\n",
      "\n",
      "\n",
      "NL Query: Show me the prescription with ID 1234.\n",
      "SQL Query: SELECT * FROM Prescriptions WHERE uuid = '1234';\n",
      "\n",
      "\n",
      "NL Query: Show me the prescription with ID 1234.\n",
      "SQL Query: SELECT * FROM prescriptions WHERE uuid = '1234';\n",
      "\n",
      "\n",
      "NL Query: What is the average age of patients in the database?\n",
      "SQL Query: None\n",
      "\n",
      "\n",
      "NL Query: What is the average age of patients in the database?\n",
      "SQL Query: SELECT AVG(age) FROM patients;\n",
      "\n",
      "\n",
      "NL Query: What is the average age of patients in the database?\n",
      "SQL Query: SELECT AVG(idade_anos) FROM Prescriptions;\n",
      "\n",
      "\n",
      "NL Query: What is the average age of patients in the database?\n",
      "SQL Query: SELECT AVG(idade_anos) FROM prescriptions;\n",
      "\n",
      "\n",
      "NL Query: Select the prescriptions given by professional with ID 4321.\n",
      "SQL Query: None\n",
      "\n",
      "\n",
      "NL Query: Select the prescriptions given by professional with ID 4321.\n",
      "SQL Query: Select the prescriptions given by professional with ID 4321.\n",
      "\n",
      "\n",
      "NL Query: Select the prescriptions given by professional with ID 4321.\n",
      "SQL Query: Select the prescriptions given by professional with ID 4321.\n",
      "\n",
      "\n",
      "NL Query: Select the prescriptions given by professional with ID 4321.\n",
      "SQL Query: SELECT * FROM prescriptions WHERE id_profissional = 4321;\n",
      "\n",
      "\n",
      "NL Query: Select the 10 professionals with the most prescriptions.\n",
      "SQL Query: None\n",
      "\n",
      "\n",
      "NL Query: Select the 10 professionals with the most prescriptions.\n",
      "SQL Query: Select the 10 professionals with the most prescriptions.\n",
      "\n",
      "\n",
      "NL Query: Select the 10 professionals with the most prescriptions.\n",
      "SQL Query: Select the 10 professionals with the most prescriptions.\n",
      "\n",
      "\n",
      "NL Query: Select the 10 professionals with the most prescriptions.\n",
      "SQL Query: SELECT * FROM prescriptions ORDER BY id_profissional DESC LIMIT 10;\n",
      "\n",
      "\n",
      "NL Query: Select the 10 most common prescriptions.\n",
      "SQL Query: None\n",
      "\n",
      "\n",
      "NL Query: Select the 10 most common prescriptions.\n",
      "SQL Query: Select the 10 most common prescriptions.\n",
      "\n",
      "\n",
      "NL Query: Select the 10 most common prescriptions.\n",
      "SQL Query: Select the 10 most common prescriptions.\n",
      "\n",
      "\n",
      "NL Query: Select the 10 most common prescriptions.\n",
      "SQL Query: select item, count(*) as total from prescriptions group by item order by total desc limit 10;\n",
      "\n",
      "\n"
     ]
    }
   ],
   "source": [
    "for query in Queries:\n",
    "    for prompt in prompts:\n",
    "        response = generate_text(prompt.format(query), model_meta_llm_8, tokenizer_meta_llm_8, device)\n",
    "        sql_query = extract_sql_query(response)\n",
    "        print(f\"NL Query: {query}\\nSQL Query: {sql_query}\\n\", end=\"\\n\\n\")\n",
    "\n"
   ]
  },
  {
   "cell_type": "markdown",
   "metadata": {},
   "source": []
  },
  {
   "cell_type": "code",
   "execution_count": 58,
   "metadata": {},
   "outputs": [
    {
     "name": "stdout",
     "output_type": "stream",
     "text": [
      "NL Query: What is the total number of prescriptions in the database?\n",
      "SQL Query: SELECT count (*) FROM authors\n",
      "\n",
      "\n",
      "NL Query: What is the total number of prescriptions in the database?\n",
      "SQL Query: SELECT count (*) FROM authors\n",
      "\n",
      "\n",
      "NL Query: Which is the most common prescription in the database?\n",
      "SQL Query: SELECT count (*) FROM authors\n",
      "\n",
      "\n",
      "NL Query: Which is the most common prescription in the database?\n",
      "SQL Query: SELECT count (*) FROM authors\n",
      "\n",
      "\n",
      "NL Query: Which professional has the most prescriptions in the database?\n",
      "SQL Query: SELECT count (*) FROM authors\n",
      "\n",
      "\n",
      "NL Query: Which professional has the most prescriptions in the database?\n",
      "SQL Query: SELECT count (*) FROM authors\n",
      "\n",
      "\n",
      "NL Query: Which is the most common age in years for prescriptions in the database?\n",
      "SQL Query: SELECT count (*) FROM authors\n",
      "\n",
      "\n",
      "NL Query: Which is the most common age in years for prescriptions in the database?\n",
      "SQL Query: SELECT count (*) FROM authors\n",
      "\n",
      "\n",
      "NL Query: Show me the prescriptions for patients older than 50 years.\n",
      "SQL Query: SELECT count (*) FROM authors\n",
      "\n",
      "\n",
      "NL Query: Show me the prescriptions for patients older than 50 years.\n",
      "SQL Query: SELECT count (*) FROM authors\n",
      "\n",
      "\n",
      "NL Query: Show me the prescription with ID 1234.\n",
      "SQL Query: SELECT count (*) FROM authors\n",
      "\n",
      "\n",
      "NL Query: Show me the prescription with ID 1234.\n",
      "SQL Query: SELECT count (*) FROM authors\n",
      "\n",
      "\n",
      "NL Query: What is the average age of patients in the database?\n",
      "SQL Query: SELECT count (*) FROM authors\n",
      "\n",
      "\n",
      "NL Query: What is the average age of patients in the database?\n",
      "SQL Query: SELECT count (*) FROM authors\n",
      "\n",
      "\n",
      "NL Query: Select the prescriptions given by professional with ID 4321.\n",
      "SQL Query: SELECT count (*) FROM authors\n",
      "\n",
      "\n",
      "NL Query: Select the prescriptions given by professional with ID 4321.\n",
      "SQL Query: SELECT count (*) FROM authors\n",
      "\n",
      "\n",
      "NL Query: Select the 10 professionals with the most prescriptions.\n",
      "SQL Query: SELECT count (*) FROM authors\n",
      "\n",
      "\n",
      "NL Query: Select the 10 professionals with the most prescriptions.\n",
      "SQL Query: SELECT count (*) FROM authors\n",
      "\n",
      "\n",
      "NL Query: Select the 10 most common prescriptions.\n",
      "SQL Query: SELECT count (*) FROM authors\n",
      "\n",
      "\n",
      "NL Query: Select the 10 most common prescriptions.\n",
      "SQL Query: SELECT count (*) FROM authors\n",
      "\n",
      "\n"
     ]
    }
   ],
   "source": [
    "for query in Queries:\n",
    "    for prompt in prompts_few_shot:\n",
    "        response = generate_text(prompt.format(query), model_meta_llm_8, tokenizer_meta_llm_8, device)\n",
    "        sql_query = extract_sql_query(response)\n",
    "        print(f\"NL Query: {query}\\nSQL Query: {sql_query}\\n\", end=\"\\n\\n\")"
   ]
  },
  {
   "cell_type": "markdown",
   "metadata": {},
   "source": []
  },
  {
   "cell_type": "markdown",
   "metadata": {},
   "source": [
    "## Conclusões"
   ]
  },
  {
   "cell_type": "code",
   "execution_count": null,
   "metadata": {},
   "outputs": [],
   "source": [
    "# connection.close()"
   ]
  }
 ],
 "metadata": {
  "kernelspec": {
   "display_name": ".venv",
   "language": "python",
   "name": "python3"
  },
  "language_info": {
   "codemirror_mode": {
    "name": "ipython",
    "version": 3
   },
   "file_extension": ".py",
   "mimetype": "text/x-python",
   "name": "python",
   "nbconvert_exporter": "python",
   "pygments_lexer": "ipython3",
   "version": "3.10.12"
  }
 },
 "nbformat": 4,
 "nbformat_minor": 2
}
